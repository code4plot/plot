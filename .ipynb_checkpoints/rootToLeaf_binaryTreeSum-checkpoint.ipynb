{
 "cells": [
  {
   "cell_type": "code",
   "execution_count": 74,
   "metadata": {},
   "outputs": [],
   "source": [
    "import math\n",
    "def rootToLeafSum(treeArray):\n",
    "    num = [treeArray[0]]\n",
    "    mult = 2\n",
    "    i = 1\n",
    "    while i < len(treeArray):\n",
    "        #each element in num is appended to two other elements\n",
    "        res = []\n",
    "        start = int(len(num) - mult/2)\n",
    "        count = 0\n",
    "        #print(num[start:])\n",
    "        j = 0\n",
    "        for k in num[start:]:\n",
    "            while j < mult and (i + j) < len(treeArray):\n",
    "                if count == 2:\n",
    "                    count = 0\n",
    "                    break\n",
    "                else:\n",
    "                    d = \"\".join(map(str,[k, treeArray[i + j]]))\n",
    "                    #print(d)\n",
    "                    res.append(int(d))\n",
    "                    count += 1\n",
    "                    j += 1\n",
    "        for j in res:\n",
    "            num.append(j)\n",
    "       # print(num)\n",
    "        i += mult\n",
    "        mult = mult * 2\n",
    "    last_i = i - mult/2\n",
    "    remain = len(treeArray) - last_i\n",
    "    leaves = mult/2 - remain\n",
    "    leaves = math.floor(leaves/2) + remain\n",
    "    #print(mult, remain, leaves)\n",
    "    ind = int(leaves * -1)\n",
    "    print(num,num[int(leaves * -1):])\n",
    "    return sum(num[int(leaves * -1):])"
   ]
  },
  {
   "cell_type": "code",
   "execution_count": 78,
   "metadata": {},
   "outputs": [
    {
     "name": "stdout",
     "output_type": "stream",
     "text": [
      "[7, 7, 2, 3, 8, 9, 6, 6, 7, 8, 1, 1]\n",
      "[7, 77, 72, 773, 778, 729, 726, 7736, 7737, 7788, 7781, 7291] [726, 7736, 7737, 7788, 7781, 7291]\n"
     ]
    },
    {
     "data": {
      "text/plain": [
       "39059"
      ]
     },
     "execution_count": 78,
     "metadata": {},
     "output_type": "execute_result"
    }
   ],
   "source": [
    "import random\n",
    "a = []\n",
    "for i in range(random.randint(10,12)):\n",
    "    a.append(random.randint(1,9))\n",
    "print(a)\n",
    "rootToLeafSum(a)"
   ]
  }
 ],
 "metadata": {
  "kernelspec": {
   "display_name": "Python 3",
   "language": "python",
   "name": "python3"
  },
  "language_info": {
   "codemirror_mode": {
    "name": "ipython",
    "version": 3
   },
   "file_extension": ".py",
   "mimetype": "text/x-python",
   "name": "python",
   "nbconvert_exporter": "python",
   "pygments_lexer": "ipython3",
   "version": "3.7.6"
  }
 },
 "nbformat": 4,
 "nbformat_minor": 4
}
