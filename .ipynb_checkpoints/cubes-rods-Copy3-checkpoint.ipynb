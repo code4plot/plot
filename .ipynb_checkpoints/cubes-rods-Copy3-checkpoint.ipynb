{
 "cells": [
  {
   "cell_type": "code",
   "execution_count": 2,
   "metadata": {},
   "outputs": [],
   "source": [
    "from collections import defaultdict\n",
    "class Cubes:\n",
    "    #constructor\n",
    "    def __init__(self):\n",
    "        #initiate dictionary for adjacency list\n",
    "        self.adjacent = defaultdict(list)\n",
    "        #initiate list to store list of islands\n",
    "        self.cube_island = []\n",
    "        \n",
    "    #store adjacent cubes in dictionary\n",
    "    def addRods(self, u, v):\n",
    "        #assume u and v are non-negative integers\n",
    "        self.adjacent[u].append(v)\n",
    "        self.adjacent[v].append(u)\n",
    "    \n",
    "    #function to traverse accross connected cubes with\n",
    "    #Depth-first search - DFSutils()\n",
    "    def connectedCubes(self):     \n",
    "        #initiate visited dictionary\n",
    "        visited = [False] * (max(self.adjacent) + 1)\n",
    "        \n",
    "        cubeList = self.adjacent.keys()\n",
    "        for i in cubeList:\n",
    "            if visited[i] == False:\n",
    "                #start traversing\n",
    "                store_cubes = [] #to store cubes\n",
    "                self.cube_island.append(self.DFSutils(i, visited, store_cubes))\n",
    "\n",
    "    #use Depth-first search, starting with cube v\n",
    "    #and mark cube v was visited\n",
    "    def DFSutils(self, v, visited, store_cubes):\n",
    "        #print cube v and mark it visited\n",
    "        visited[v] = True\n",
    "        store_cubes.append(v)\n",
    "                \n",
    "        #iterate through all cubes adjacent to v\n",
    "        for i in self.adjacent[v]:\n",
    "            if visited[i] == False:\n",
    "                store_cubes = self.DFSutils(i, visited, store_cubes)\n",
    "                \n",
    "        return store_cubes\n"
   ]
  },
  {
   "cell_type": "code",
   "execution_count": 16,
   "metadata": {},
   "outputs": [],
   "source": [
    "def compute(rods):\n",
    "    #initiate Cubes class\n",
    "    c = Cubes()\n",
    "    \n",
    "    #construct a dictionary of adjacent cubes\n",
    "    for i,j in rods:\n",
    "        c.addRods(i,j)\n",
    "    \n",
    "    #identify islands\n",
    "    c.connectedCubes() #stores list of islands in c.cube_island\n",
    "    \n",
    "    #minimum number of rods needed for each island\n",
    "    minRods = 0\n",
    "    for island in c.cube_island:\n",
    "        minRods += len(island) - 1 #(n-1), where n is the number of cubes\n",
    "    \n",
    "    #maximum rods can be removed\n",
    "    #subtract the minRods from len(rods)\n",
    "    removeRod = len(rods) - minRods\n",
    "    return removeRod"
   ]
  },
  {
   "cell_type": "code",
   "execution_count": 25,
   "metadata": {},
   "outputs": [
    {
     "data": {
      "text/plain": [
       "[[1, 2, 3, 4], [42, 35, 20], [10, 11, 12]]"
      ]
     },
     "execution_count": 25,
     "metadata": {},
     "output_type": "execute_result"
    }
   ],
   "source": [
    "a = [(1,2),(42,35),(2,3),(20,35),(10,11),(11,12),(3,4),(20,35),(1,2)]\n",
    "c = Cubes()\n",
    "for i,j in a:\n",
    "    c.addRods(i,j)\n",
    "c.connectedCubes()\n",
    "c.cube_island"
   ]
  },
  {
   "cell_type": "code",
   "execution_count": 17,
   "metadata": {},
   "outputs": [
    {
     "data": {
      "text/plain": [
       "0"
      ]
     },
     "execution_count": 17,
     "metadata": {},
     "output_type": "execute_result"
    }
   ],
   "source": [
    "#test cases\n",
    "#1 island\n",
    "a = [(1,2),(1,3)]\n",
    "compute(a)"
   ]
  },
  {
   "cell_type": "code",
   "execution_count": 18,
   "metadata": {},
   "outputs": [
    {
     "data": {
      "text/plain": [
       "1"
      ]
     },
     "execution_count": 18,
     "metadata": {},
     "output_type": "execute_result"
    }
   ],
   "source": [
    "#1 island\n",
    "a = [(1,2), (2,3),(1,3)]\n",
    "compute(a)"
   ]
  },
  {
   "cell_type": "code",
   "execution_count": 19,
   "metadata": {},
   "outputs": [
    {
     "data": {
      "text/plain": [
       "0"
      ]
     },
     "execution_count": 19,
     "metadata": {},
     "output_type": "execute_result"
    }
   ],
   "source": [
    "#2 islands\n",
    "a = [(1,2),(2,3),(4,5)]\n",
    "compute(a)"
   ]
  },
  {
   "cell_type": "code",
   "execution_count": 20,
   "metadata": {},
   "outputs": [
    {
     "data": {
      "text/plain": [
       "4"
      ]
     },
     "execution_count": 20,
     "metadata": {},
     "output_type": "execute_result"
    }
   ],
   "source": [
    "#more islands\n",
    "a = [(1,2),(2,3),(4,5),(1,2),(2,3),(1,3),(10,11),(11,12),(42,35),(20,35),(20,35),(42,10)]\n",
    "compute(a)"
   ]
  },
  {
   "cell_type": "code",
   "execution_count": 21,
   "metadata": {},
   "outputs": [
    {
     "data": {
      "text/plain": [
       "4"
      ]
     },
     "execution_count": 21,
     "metadata": {},
     "output_type": "execute_result"
    }
   ],
   "source": [
    "#more islands\n",
    "a = [(1,2),(2,3),(4,5),(42,35),(20,35),(20,35),(42,10),(1,2),(2,3),(1,3),(10,11),(11,12)]\n",
    "compute(a)"
   ]
  },
  {
   "cell_type": "code",
   "execution_count": 22,
   "metadata": {},
   "outputs": [
    {
     "data": {
      "text/plain": [
       "2"
      ]
     },
     "execution_count": 22,
     "metadata": {},
     "output_type": "execute_result"
    }
   ],
   "source": [
    "a = [(1,2),(42,35),(2,3),(20,35),(10,11),(11,12),(3,4),(20,35),(1,2)]\n",
    "compute(a)"
   ]
  },
  {
   "cell_type": "code",
   "execution_count": 23,
   "metadata": {},
   "outputs": [
    {
     "data": {
      "text/plain": [
       "3"
      ]
     },
     "execution_count": 23,
     "metadata": {},
     "output_type": "execute_result"
    }
   ],
   "source": [
    "a = [(1,2),(42,35),(2,3),(20,35),(10,11),(11,12),(3,4),(20,35),(1,2),(5,5)]\n",
    "compute(a)"
   ]
  },
  {
   "cell_type": "code",
   "execution_count": 27,
   "metadata": {},
   "outputs": [
    {
     "name": "stdout",
     "output_type": "stream",
     "text": [
      "[(8, 19), (11, 2), (10, 16), (3, 2), (11, 18), (14, 2), (11, 11), (4, 2), (10, 19), (20, 8), (5, 17), (6, 5), (7, 9), (18, 8), (2, 18), (8, 5), (16, 12), (11, 5), (13, 2), (12, 1)] 3\n"
     ]
    }
   ],
   "source": [
    "import random\n",
    "a = []\n",
    "for k in range(20):\n",
    "    a.append((random.randint(1,20),random.randint(1,20)))\n",
    "print(a, compute(a))"
   ]
  },
  {
   "cell_type": "code",
   "execution_count": null,
   "metadata": {},
   "outputs": [],
   "source": []
  }
 ],
 "metadata": {
  "kernelspec": {
   "display_name": "Python 3",
   "language": "python",
   "name": "python3"
  },
  "language_info": {
   "codemirror_mode": {
    "name": "ipython",
    "version": 3
   },
   "file_extension": ".py",
   "mimetype": "text/x-python",
   "name": "python",
   "nbconvert_exporter": "python",
   "pygments_lexer": "ipython3",
   "version": "3.7.6"
  }
 },
 "nbformat": 4,
 "nbformat_minor": 4
}
