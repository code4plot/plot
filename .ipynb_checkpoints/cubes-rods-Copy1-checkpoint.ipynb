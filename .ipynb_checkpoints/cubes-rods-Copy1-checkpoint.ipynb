{
 "cells": [
  {
   "cell_type": "code",
   "execution_count": 60,
   "metadata": {},
   "outputs": [],
   "source": [
    "from collections import defaultdict\n",
    "class Cubes:\n",
    "    #constructor\n",
    "    def __init__(self):\n",
    "        self.rods = defaultdict(list)\n",
    "        #list of cubes\n",
    "        self.cubeList = []\n",
    "        #cubes in an island\n",
    "        self.cube_island = []\n",
    "        \n",
    "    #build the cube-rod layout\n",
    "    #like an undirected graph\n",
    "    def addRods(self, u, v):\n",
    "        self.rods[u].append(v)\n",
    "        self.rods[v].append(u)\n",
    "        for i in [u,v]:\n",
    "            if i not in self.cubeList:\n",
    "                self.cubeList.append(i)\n",
    "    \n",
    "    #function to traverse accross connected cubes with\n",
    "    #Depth-first search - DFSutils()\n",
    "    def DFS(self, v):\n",
    "        #reset cube_island list\n",
    "        self.cube_island = []\n",
    "        #initiate visited list\n",
    "        visited = [False] * (max(self.rods) + 1)\n",
    "        \n",
    "        #start DFS traversal\n",
    "        self.DFSutils(v, visited)\n",
    "        \n",
    "    #use Depth-first search, starting with cube v\n",
    "    def DFSutils(self, v, visited):\n",
    "        #print cube v and mark it visited\n",
    "        visited[v] = True\n",
    "        #print(v, \" \")\n",
    "        #add cube to self.cube_island\n",
    "        self.cube_island.append(v)\n",
    "        \n",
    "        #iterate through all adjacent cubes\n",
    "        for i in self.rods[v]:\n",
    "            if visited[i] == False:\n",
    "                self.DFSutils(i, visited)\n"
   ]
  },
  {
   "cell_type": "code",
   "execution_count": 61,
   "metadata": {},
   "outputs": [],
   "source": [
    "def compute(layout):\n",
    "    #initiate Cubes class\n",
    "    c = Cubes()\n",
    "    \n",
    "    #construct the cube-rods layout\n",
    "    for i,j in layout:\n",
    "        c.addRods(i,j)\n",
    "    \n",
    "    #identify islands\n",
    "    islands = []\n",
    "    for i in c.cubeList:\n",
    "        if i not in c.cube_island:\n",
    "            c.DFS(i)\n",
    "            islands.append(c.cube_island)\n",
    "    \n",
    "    #compute number of rods for each island\n",
    "    rods = []\n",
    "    for island in islands:\n",
    "        r = 0\n",
    "        for j in layout:\n",
    "            for k in island:\n",
    "                if k in j:\n",
    "                    r += 1\n",
    "                    break\n",
    "        rods.append(r)\n",
    "    \n",
    "    #minimum number of rods\n",
    "    #sum(minimum rods for each island)\n",
    "    minRods = []\n",
    "    for island in islands:\n",
    "        minRods.append(len(island) - 1) #(n-1), where n is the number of cubes\n",
    "    \n",
    "    #maximum rods can be removed\n",
    "    #subtract the minimum number of rods from number of rods of each island    \n",
    "    removeRod = 0\n",
    "    for i in range(len(rods)):\n",
    "        removeRod += rods[i] - minRods[i]\n",
    "    return removeRod\n",
    "        \n",
    "    "
   ]
  },
  {
   "cell_type": "code",
   "execution_count": 63,
   "metadata": {},
   "outputs": [
    {
     "data": {
      "text/plain": [
       "0"
      ]
     },
     "execution_count": 63,
     "metadata": {},
     "output_type": "execute_result"
    }
   ],
   "source": [
    "#test cases\n",
    "#1 island\n",
    "a = [(1,2),(1,3)]\n",
    "compute(a)"
   ]
  },
  {
   "cell_type": "code",
   "execution_count": 66,
   "metadata": {},
   "outputs": [
    {
     "data": {
      "text/plain": [
       "1"
      ]
     },
     "execution_count": 66,
     "metadata": {},
     "output_type": "execute_result"
    }
   ],
   "source": [
    "#1 island\n",
    "a = [(1,2), (2,3),(1,3)]\n",
    "compute(a)"
   ]
  },
  {
   "cell_type": "code",
   "execution_count": 65,
   "metadata": {},
   "outputs": [
    {
     "data": {
      "text/plain": [
       "0"
      ]
     },
     "execution_count": 65,
     "metadata": {},
     "output_type": "execute_result"
    }
   ],
   "source": [
    "#2 islands\n",
    "a = [(1,2),(2,3),(4,5)]\n",
    "compute(a)"
   ]
  },
  {
   "cell_type": "code",
   "execution_count": 67,
   "metadata": {},
   "outputs": [
    {
     "data": {
      "text/plain": [
       "4"
      ]
     },
     "execution_count": 67,
     "metadata": {},
     "output_type": "execute_result"
    }
   ],
   "source": [
    "#more islands\n",
    "a = [(1,2),(2,3),(4,5),(1,2),(2,3),(1,3),(10,11),(11,12),(42,35),(20,35),(20,35),(42,10)]\n",
    "compute(a)"
   ]
  }
 ],
 "metadata": {
  "kernelspec": {
   "display_name": "Python 3",
   "language": "python",
   "name": "python3"
  },
  "language_info": {
   "codemirror_mode": {
    "name": "ipython",
    "version": 3
   },
   "file_extension": ".py",
   "mimetype": "text/x-python",
   "name": "python",
   "nbconvert_exporter": "python",
   "pygments_lexer": "ipython3",
   "version": "3.7.6"
  }
 },
 "nbformat": 4,
 "nbformat_minor": 4
}
