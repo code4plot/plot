{
 "cells": [
  {
   "cell_type": "code",
   "execution_count": 42,
   "metadata": {},
   "outputs": [],
   "source": [
    "from collections import defaultdict\n",
    "class Cubes:\n",
    "    def __init__(self):\n",
    "        #initiate dictionary for adjacency list\n",
    "        self.adjacent = defaultdict(list)\n",
    "        #initiate list to store list of islands\n",
    "        self.cube_island = []\n",
    "        \n",
    "    #store adjacent cubes in dictionary\n",
    "    def addRods(self, u, v):\n",
    "        self.adjacent[u].append(v)\n",
    "        self.adjacent[v].append(u)\n",
    "    \n",
    "    #function to identify connected cubes\n",
    "    #using Depth-First Search (DFS)\n",
    "    #and store into cube_island list\n",
    "    def connectedCubes(self):     \n",
    "        #initiate visited dictionary\n",
    "        visited = defaultdict(bool)    \n",
    "        cubeList = self.adjacent.keys()\n",
    "        for i in cubeList:\n",
    "            visited[i] = False\n",
    "        \n",
    "        for i in cubeList:\n",
    "            if visited[i] == False:\n",
    "                #start traversing\n",
    "                store_cubes = [] #to store cubes\n",
    "                self.cube_island.append(self.DFSutils(i, visited, store_cubes))\n",
    "\n",
    "    #recursive function to identify all cubes connected to v\n",
    "    def DFSutils(self, v, visited, store_cubes):\n",
    "        #print cube v and mark it visited\n",
    "        visited[v] = True\n",
    "        store_cubes.append(v)\n",
    "        print(store_cubes)\n",
    "                \n",
    "        #iterate through all cubes adjacent to v\n",
    "        for i in self.adjacent[v]:\n",
    "            if visited[i] == False:\n",
    "                #store_cubes = self.DFSutils(i, visited, store_cubes)\n",
    "                self.DFSutils(i, visited, store_cubes)\n",
    "                \n",
    "        return store_cubes"
   ]
  },
  {
   "cell_type": "code",
   "execution_count": 43,
   "metadata": {},
   "outputs": [],
   "source": [
    "def compute(rods):\n",
    "    #initiate Cubes class\n",
    "    c = Cubes()\n",
    "    \n",
    "    #construct a dictionary of adjacent cubes\n",
    "    for i,j in rods:\n",
    "        c.addRods(i,j)\n",
    "    \n",
    "    #identify islands\n",
    "    #initiates DFS and stores list of islands in c.cube_island\n",
    "    c.connectedCubes() \n",
    "    \n",
    "    #minimum number of rods needed for each island\n",
    "    minRods = 0\n",
    "    for island in c.cube_island:\n",
    "        minRods += len(island) - 1 #(n-1), where n is the number of cubes\n",
    "    \n",
    "    #maximum rods can be removed\n",
    "    #subtract the minRods from len(rods)\n",
    "    removeRod = len(rods) - minRods\n",
    "    return removeRod"
   ]
  },
  {
   "cell_type": "code",
   "execution_count": 44,
   "metadata": {},
   "outputs": [
    {
     "name": "stdout",
     "output_type": "stream",
     "text": [
      "[1]\n",
      "[1, 2]\n",
      "[1, 2, 3]\n"
     ]
    },
    {
     "ename": "TypeError",
     "evalue": "object of type 'NoneType' has no len()",
     "output_type": "error",
     "traceback": [
      "\u001b[1;31m---------------------------------------------------------------------------\u001b[0m",
      "\u001b[1;31mTypeError\u001b[0m                                 Traceback (most recent call last)",
      "\u001b[1;32m<ipython-input-44-db3c47a0ff47>\u001b[0m in \u001b[0;36m<module>\u001b[1;34m\u001b[0m\n\u001b[0;32m      2\u001b[0m \u001b[1;31m#1 island\u001b[0m\u001b[1;33m\u001b[0m\u001b[1;33m\u001b[0m\u001b[1;33m\u001b[0m\u001b[0m\n\u001b[0;32m      3\u001b[0m \u001b[0ma\u001b[0m \u001b[1;33m=\u001b[0m \u001b[1;33m[\u001b[0m\u001b[1;33m(\u001b[0m\u001b[1;36m1\u001b[0m\u001b[1;33m,\u001b[0m\u001b[1;36m2\u001b[0m\u001b[1;33m)\u001b[0m\u001b[1;33m,\u001b[0m\u001b[1;33m(\u001b[0m\u001b[1;36m1\u001b[0m\u001b[1;33m,\u001b[0m\u001b[1;36m3\u001b[0m\u001b[1;33m)\u001b[0m\u001b[1;33m]\u001b[0m \u001b[1;31m#output 0\u001b[0m\u001b[1;33m\u001b[0m\u001b[1;33m\u001b[0m\u001b[0m\n\u001b[1;32m----> 4\u001b[1;33m \u001b[0mcompute\u001b[0m\u001b[1;33m(\u001b[0m\u001b[0ma\u001b[0m\u001b[1;33m)\u001b[0m\u001b[1;33m\u001b[0m\u001b[1;33m\u001b[0m\u001b[0m\n\u001b[0m",
      "\u001b[1;32m<ipython-input-43-a10df7477723>\u001b[0m in \u001b[0;36mcompute\u001b[1;34m(rods)\u001b[0m\n\u001b[0;32m     14\u001b[0m     \u001b[0mminRods\u001b[0m \u001b[1;33m=\u001b[0m \u001b[1;36m0\u001b[0m\u001b[1;33m\u001b[0m\u001b[1;33m\u001b[0m\u001b[0m\n\u001b[0;32m     15\u001b[0m     \u001b[1;32mfor\u001b[0m \u001b[0misland\u001b[0m \u001b[1;32min\u001b[0m \u001b[0mc\u001b[0m\u001b[1;33m.\u001b[0m\u001b[0mcube_island\u001b[0m\u001b[1;33m:\u001b[0m\u001b[1;33m\u001b[0m\u001b[1;33m\u001b[0m\u001b[0m\n\u001b[1;32m---> 16\u001b[1;33m         \u001b[0mminRods\u001b[0m \u001b[1;33m+=\u001b[0m \u001b[0mlen\u001b[0m\u001b[1;33m(\u001b[0m\u001b[0misland\u001b[0m\u001b[1;33m)\u001b[0m \u001b[1;33m-\u001b[0m \u001b[1;36m1\u001b[0m \u001b[1;31m#(n-1), where n is the number of cubes\u001b[0m\u001b[1;33m\u001b[0m\u001b[1;33m\u001b[0m\u001b[0m\n\u001b[0m\u001b[0;32m     17\u001b[0m \u001b[1;33m\u001b[0m\u001b[0m\n\u001b[0;32m     18\u001b[0m     \u001b[1;31m#maximum rods can be removed\u001b[0m\u001b[1;33m\u001b[0m\u001b[1;33m\u001b[0m\u001b[1;33m\u001b[0m\u001b[0m\n",
      "\u001b[1;31mTypeError\u001b[0m: object of type 'NoneType' has no len()"
     ]
    }
   ],
   "source": [
    "#test cases\n",
    "#1 island\n",
    "a = [(1,2),(1,3)] #output 0\n",
    "compute(a)"
   ]
  },
  {
   "cell_type": "code",
   "execution_count": 40,
   "metadata": {},
   "outputs": [
    {
     "name": "stdout",
     "output_type": "stream",
     "text": [
      "[1]\n",
      "[1, 2]\n",
      "[1, 2, 3]\n"
     ]
    },
    {
     "data": {
      "text/plain": [
       "1"
      ]
     },
     "execution_count": 40,
     "metadata": {},
     "output_type": "execute_result"
    }
   ],
   "source": [
    "#1 island\n",
    "a = [(1,2), (2,3),(1,3)] #output 1\n",
    "compute(a)"
   ]
  },
  {
   "cell_type": "code",
   "execution_count": 41,
   "metadata": {},
   "outputs": [
    {
     "name": "stdout",
     "output_type": "stream",
     "text": [
      "[1]\n",
      "[1, 2]\n",
      "[1, 2, 3]\n",
      "[4]\n",
      "[4, 5]\n"
     ]
    },
    {
     "data": {
      "text/plain": [
       "0"
      ]
     },
     "execution_count": 41,
     "metadata": {},
     "output_type": "execute_result"
    }
   ],
   "source": [
    "#2 islands\n",
    "a = [(1,2),(2,3),(4,5)] #output 0\n",
    "compute(a)"
   ]
  },
  {
   "cell_type": "code",
   "execution_count": 36,
   "metadata": {},
   "outputs": [
    {
     "name": "stdout",
     "output_type": "stream",
     "text": [
      "[1, 2, 3]\n",
      "[1, 2, 3]\n",
      "[4, 5]\n",
      "[10, 11, 12]\n",
      "[10, 11, 12]\n",
      "[10, 11, 12, 42, 35, 20]\n",
      "[10, 11, 12, 42, 35, 20]\n",
      "[10, 11, 12, 42, 35, 20]\n"
     ]
    },
    {
     "data": {
      "text/plain": [
       "4"
      ]
     },
     "execution_count": 36,
     "metadata": {},
     "output_type": "execute_result"
    }
   ],
   "source": [
    "#more islands\n",
    "a = [(1,2),(2,3),(4,5),(1,2),(2,3),(1,3),(10,11),(11,12),(42,35),(20,35),(20,35),(42,10)] #output 4\n",
    "compute(a)"
   ]
  },
  {
   "cell_type": "code",
   "execution_count": 17,
   "metadata": {},
   "outputs": [
    {
     "data": {
      "text/plain": [
       "7"
      ]
     },
     "execution_count": 17,
     "metadata": {},
     "output_type": "execute_result"
    }
   ],
   "source": [
    "#more islands with self connections\n",
    "a = [(1,2),(2,3),(4,5),(42,35),(20,35),(20,35),(42,10),(1,2),(2,3),(1,3),(10,11),(11,12),(1,1),(50,50),(30,30)] #output 7\n",
    "compute(a)"
   ]
  },
  {
   "cell_type": "code",
   "execution_count": 18,
   "metadata": {},
   "outputs": [
    {
     "data": {
      "text/plain": [
       "2"
      ]
     },
     "execution_count": 18,
     "metadata": {},
     "output_type": "execute_result"
    }
   ],
   "source": [
    "#cubes with negative integers\n",
    "a = [(1,2),(42,35),(2,3),(20,35),(10,11),(11,12),(3,4),(20,35),(-1,2),(1,-2),(2,-3),(1,3)] #output 2\n",
    "compute(a)"
   ]
  },
  {
   "cell_type": "code",
   "execution_count": 10,
   "metadata": {},
   "outputs": [
    {
     "name": "stdout",
     "output_type": "stream",
     "text": [
      "[(-3, 2), (-8, -4), (1, 2), (-4, 3), (-10, 4), (-8, 0), (-3, 3), (-8, 5), (-1, 2), (0, -2), (9, 4), (2, -3), (-2, -1), (7, 0), (-2, 3), (-4, -3), (-9, -4), (-8, 0), (-7, -5), (-5, 2)] 5\n"
     ]
    }
   ],
   "source": [
    "import random\n",
    "a = []\n",
    "for k in range(20):\n",
    "    a.append((random.randint(-10,10),random.randint(-5,5)))\n",
    "print(a, compute(a))"
   ]
  },
  {
   "cell_type": "code",
   "execution_count": null,
   "metadata": {},
   "outputs": [],
   "source": []
  }
 ],
 "metadata": {
  "kernelspec": {
   "display_name": "Python 3",
   "language": "python",
   "name": "python3"
  },
  "language_info": {
   "codemirror_mode": {
    "name": "ipython",
    "version": 3
   },
   "file_extension": ".py",
   "mimetype": "text/x-python",
   "name": "python",
   "nbconvert_exporter": "python",
   "pygments_lexer": "ipython3",
   "version": "3.7.6"
  }
 },
 "nbformat": 4,
 "nbformat_minor": 4
}
