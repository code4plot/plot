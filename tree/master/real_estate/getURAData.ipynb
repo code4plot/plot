{
    "cells": [
        {
            "cell_type": "code",
            "execution_count": 99,
            "metadata": {},
            "outputs": [
                {
                    "name": "stdout",
                    "output_type": "stream",
                    "text": "continue\n"
                }
            ],
            "source": "#run only on Jan, Apr, July and Oct\nfrom datetime import date\nmonth = date.today().strftime(\"%m\")\nmonth = int(month)\nrunningMonths = (1,4,7,10)\nif month not in runningMonths:\n    raise SystemExit(\"Stop right there!\")\nelse:\n    print('continue')"
        },
        {
            "cell_type": "code",
            "execution_count": 2,
            "metadata": {},
            "outputs": [
                {
                    "name": "stdout",
                    "output_type": "stream",
                    "text": "https://www.ura.gov.sg/uraDataService/insertNewToken.action {'AccessKey': '8da3d5f8-fa26-421a-95c5-58d2095cff84'}\n"
                }
            ],
            "source": "# The code was removed by Watson Studio for sharing."
        },
        {
            "cell_type": "code",
            "execution_count": 3,
            "metadata": {},
            "outputs": [
                {
                    "name": "stdout",
                    "output_type": "stream",
                    "text": "{\"Status\":\"Success\",\"Message\":\"\",\"Result\":\"b95jdayZ688EdK-H2Y-Wf8PmUddnh7GNMddazfZ6Jj5AdJ-Z9G2f232e8dqmd9a@dawwPH58g2C84fht7faB86dWTf173amR5J7r\"}\n"
                }
            ],
            "source": "#send POST request\nres = requests.post(url, headers=handle)\nprint(res.text)"
        },
        {
            "cell_type": "code",
            "execution_count": 4,
            "metadata": {},
            "outputs": [
                {
                    "name": "stdout",
                    "output_type": "stream",
                    "text": "b95jdayZ688EdK-H2Y-Wf8PmUddnh7GNMddazfZ6Jj5AdJ-Z9G2f232e8dqmd9a@dawwPH58g2C84fht7faB86dWTf173amR5J7r\n"
                }
            ],
            "source": "#parse output to retrieve token\ntoken = eval(res.text)\ntoken = token['Result']\nprint(token)"
        },
        {
            "cell_type": "code",
            "execution_count": 65,
            "metadata": {},
            "outputs": [
                {
                    "data": {
                        "text/html": "<div>\n<style scoped>\n    .dataframe tbody tr th:only-of-type {\n        vertical-align: middle;\n    }\n\n    .dataframe tbody tr th {\n        vertical-align: top;\n    }\n\n    .dataframe thead th {\n        text-align: right;\n    }\n</style>\n<table border=\"1\" class=\"dataframe\">\n  <thead>\n    <tr style=\"text-align: right;\">\n      <th></th>\n      <th>quarter</th>\n    </tr>\n  </thead>\n  <tbody>\n    <tr>\n      <th>0</th>\n      <td>19Q1</td>\n    </tr>\n    <tr>\n      <th>1</th>\n      <td>19Q2</td>\n    </tr>\n    <tr>\n      <th>2</th>\n      <td>19Q3</td>\n    </tr>\n    <tr>\n      <th>3</th>\n      <td>19Q4</td>\n    </tr>\n    <tr>\n      <th>4</th>\n      <td>20Q1</td>\n    </tr>\n  </tbody>\n</table>\n</div>",
                        "text/plain": "  quarter\n0    19Q1\n1    19Q2\n2    19Q3\n3    19Q4\n4    20Q1"
                    },
                    "execution_count": 65,
                    "metadata": {},
                    "output_type": "execute_result"
                }
            ],
            "source": "# The code was removed by Watson Studio for sharing."
        },
        {
            "cell_type": "code",
            "execution_count": 66,
            "metadata": {},
            "outputs": [
                {
                    "data": {
                        "text/plain": "'20Q2'"
                    },
                    "execution_count": 66,
                    "metadata": {},
                    "output_type": "execute_result"
                }
            ],
            "source": "#determine which q to process\nlast_q = list(quarter_df['quarter'])[-1]\n[year, quarter] = list(map(int,last_q.split(\"Q\")))\nif quarter == 4:\n    year = year + 1\n    quarter = 1\nelse:\n     quarter = quarter + 1   \nq = \"Q\".join(list(map(str,[year,quarter])))\nq"
        },
        {
            "cell_type": "code",
            "execution_count": 67,
            "metadata": {},
            "outputs": [
                {
                    "name": "stdout",
                    "output_type": "stream",
                    "text": "https://www.ura.gov.sg/uraDataService/invokeUraDS?service=PMI_Resi_Rental&refPeriod=20Q2 {'AccessKey': '8da3d5f8-fa26-421a-95c5-58d2095cff84', 'Token': 'b95jdayZ688EdK-H2Y-Wf8PmUddnh7GNMddazfZ6Jj5AdJ-Z9G2f232e8dqmd9a@dawwPH58g2C84fht7faB86dWTf173amR5J7r'}\n"
                }
            ],
            "source": "# The code was removed by Watson Studio for sharing."
        },
        {
            "cell_type": "code",
            "execution_count": 68,
            "metadata": {},
            "outputs": [],
            "source": "#connect to API\nres = requests.post(url, headers=handle)\njson_out = res.text"
        },
        {
            "cell_type": "code",
            "execution_count": 69,
            "metadata": {},
            "outputs": [],
            "source": "#convert data to json object\nimport json\nura_json = json.loads(json_out)"
        },
        {
            "cell_type": "code",
            "execution_count": 70,
            "metadata": {},
            "outputs": [
                {
                    "data": {
                        "text/plain": "2"
                    },
                    "execution_count": 70,
                    "metadata": {},
                    "output_type": "execute_result"
                }
            ],
            "source": "#preview\nlen(ura_json)"
        },
        {
            "cell_type": "code",
            "execution_count": 71,
            "metadata": {},
            "outputs": [],
            "source": "#convert nested json to df\nimport pandas as pd\nfrom pandas.io.json import json_normalize\nura_df = json_normalize(data=ura_json['Result'], record_path='rental',\n                     meta=['project', 'street','x','y'], errors='ignore')\n"
        },
        {
            "cell_type": "code",
            "execution_count": 72,
            "metadata": {},
            "outputs": [
                {
                    "data": {
                        "text/plain": "(20097, 11)"
                    },
                    "execution_count": 72,
                    "metadata": {},
                    "output_type": "execute_result"
                }
            ],
            "source": "ura_df.shape"
        },
        {
            "cell_type": "code",
            "execution_count": 73,
            "metadata": {},
            "outputs": [
                {
                    "data": {
                        "text/html": "<div>\n<style scoped>\n    .dataframe tbody tr th:only-of-type {\n        vertical-align: middle;\n    }\n\n    .dataframe tbody tr th {\n        vertical-align: top;\n    }\n\n    .dataframe thead th {\n        text-align: right;\n    }\n</style>\n<table border=\"1\" class=\"dataframe\">\n  <thead>\n    <tr style=\"text-align: right;\">\n      <th></th>\n      <th>areaSqft</th>\n      <th>areaSqm</th>\n      <th>district</th>\n      <th>leaseDate</th>\n      <th>noOfBedRoom</th>\n      <th>propertyType</th>\n      <th>rent</th>\n      <th>project</th>\n      <th>street</th>\n      <th>x</th>\n      <th>y</th>\n    </tr>\n  </thead>\n  <tbody>\n    <tr>\n      <th>0</th>\n      <td>2300-2400</td>\n      <td>210-220</td>\n      <td>15</td>\n      <td>0620</td>\n      <td>3</td>\n      <td>Non-landed Properties</td>\n      <td>4650</td>\n      <td>ELLIOT AT THE EAST COAST</td>\n      <td>ELLIOT ROAD</td>\n      <td>38883.874192089998</td>\n      <td>32621.50999211</td>\n    </tr>\n    <tr>\n      <th>1</th>\n      <td>2300-2400</td>\n      <td>210-220</td>\n      <td>15</td>\n      <td>0620</td>\n      <td>3</td>\n      <td>Non-landed Properties</td>\n      <td>5600</td>\n      <td>ELLIOT AT THE EAST COAST</td>\n      <td>ELLIOT ROAD</td>\n      <td>38883.874192089998</td>\n      <td>32621.50999211</td>\n    </tr>\n    <tr>\n      <th>2</th>\n      <td>2500-2600</td>\n      <td>230-240</td>\n      <td>15</td>\n      <td>0420</td>\n      <td>4</td>\n      <td>Non-landed Properties</td>\n      <td>6200</td>\n      <td>ELLIOT AT THE EAST COAST</td>\n      <td>ELLIOT ROAD</td>\n      <td>38883.874192089998</td>\n      <td>32621.50999211</td>\n    </tr>\n    <tr>\n      <th>3</th>\n      <td>900-1000</td>\n      <td>90-100</td>\n      <td>15</td>\n      <td>0520</td>\n      <td>2</td>\n      <td>Non-landed Properties</td>\n      <td>3100</td>\n      <td>ELLIOT AT THE EAST COAST</td>\n      <td>ELLIOT ROAD</td>\n      <td>38883.874192089998</td>\n      <td>32621.50999211</td>\n    </tr>\n    <tr>\n      <th>4</th>\n      <td>2500-2600</td>\n      <td>230-240</td>\n      <td>15</td>\n      <td>0520</td>\n      <td>4</td>\n      <td>Non-landed Properties</td>\n      <td>5700</td>\n      <td>ELLIOT AT THE EAST COAST</td>\n      <td>ELLIOT ROAD</td>\n      <td>38883.874192089998</td>\n      <td>32621.50999211</td>\n    </tr>\n  </tbody>\n</table>\n</div>",
                        "text/plain": "    areaSqft  areaSqm district leaseDate noOfBedRoom           propertyType  \\\n0  2300-2400  210-220       15      0620           3  Non-landed Properties   \n1  2300-2400  210-220       15      0620           3  Non-landed Properties   \n2  2500-2600  230-240       15      0420           4  Non-landed Properties   \n3   900-1000   90-100       15      0520           2  Non-landed Properties   \n4  2500-2600  230-240       15      0520           4  Non-landed Properties   \n\n   rent                   project       street                   x  \\\n0  4650  ELLIOT AT THE EAST COAST  ELLIOT ROAD  38883.874192089998   \n1  5600  ELLIOT AT THE EAST COAST  ELLIOT ROAD  38883.874192089998   \n2  6200  ELLIOT AT THE EAST COAST  ELLIOT ROAD  38883.874192089998   \n3  3100  ELLIOT AT THE EAST COAST  ELLIOT ROAD  38883.874192089998   \n4  5700  ELLIOT AT THE EAST COAST  ELLIOT ROAD  38883.874192089998   \n\n                y  \n0  32621.50999211  \n1  32621.50999211  \n2  32621.50999211  \n3  32621.50999211  \n4  32621.50999211  "
                    },
                    "execution_count": 73,
                    "metadata": {},
                    "output_type": "execute_result"
                }
            ],
            "source": "ura_df.head()"
        },
        {
            "cell_type": "code",
            "execution_count": 74,
            "metadata": {},
            "outputs": [
                {
                    "data": {
                        "text/plain": "array([2350.0, 2550.0, 950.0, 1750.0, 2850.0, 1350.0, 1050.0, 2050.0,\n       2750.0, 2250.0, 5750.0, 1250.0, 450.0, 8000, 850.0, 1450.0, 1650.0,\n       2150.0, 3000, 2650.0, 2950.0, 2450.0, 3250.0, 550.0, 1150.0, 750.0,\n       650.0, 1550.0, 4250.0, 1850.0, 3750.0, 350.0, 4750.0, 1950.0, 1000,\n       7750.0, 6750.0, 5250.0, 6250.0, 7250.0, 250.0], dtype=object)"
                    },
                    "execution_count": 74,
                    "metadata": {},
                    "output_type": "execute_result"
                }
            ],
            "source": "#recalculate areaSqft to midpoint\nimport re\narea = ura_df['areaSqft']\narea = area.str.split(\"-\")\nfor i in range(0, area.size):\n    if len(area[i]) == 2:\n        temp = list(map(int, area[i]))\n        area[i] = sum(temp)/2\n    else:\n        temp = re.sub(\"[^0-9]\",\"\",area[i][0])\n        area[i] = int(temp)\narea.unique()"
        },
        {
            "cell_type": "code",
            "execution_count": 75,
            "metadata": {},
            "outputs": [
                {
                    "data": {
                        "text/plain": "0    1.97872\n1    2.38298\n2    2.43137\n3    3.26316\n4    2.23529\ndtype: object"
                    },
                    "execution_count": 75,
                    "metadata": {},
                    "output_type": "execute_result"
                }
            ],
            "source": "#calculate price per square feet (psf)\npsf = ura_df['rent']/area\npsf.head()"
        },
        {
            "cell_type": "code",
            "execution_count": 76,
            "metadata": {},
            "outputs": [
                {
                    "data": {
                        "text/html": "<div>\n<style scoped>\n    .dataframe tbody tr th:only-of-type {\n        vertical-align: middle;\n    }\n\n    .dataframe tbody tr th {\n        vertical-align: top;\n    }\n\n    .dataframe thead th {\n        text-align: right;\n    }\n</style>\n<table border=\"1\" class=\"dataframe\">\n  <thead>\n    <tr style=\"text-align: right;\">\n      <th></th>\n      <th>areaSqft</th>\n      <th>areaSqm</th>\n      <th>district</th>\n      <th>leaseDate</th>\n      <th>noOfBedRoom</th>\n      <th>propertyType</th>\n      <th>rent</th>\n      <th>project</th>\n      <th>street</th>\n      <th>x</th>\n      <th>y</th>\n      <th>psf</th>\n    </tr>\n  </thead>\n  <tbody>\n    <tr>\n      <th>0</th>\n      <td>2350</td>\n      <td>210-220</td>\n      <td>15</td>\n      <td>0620</td>\n      <td>3</td>\n      <td>Non-landed Properties</td>\n      <td>4650</td>\n      <td>ELLIOT AT THE EAST COAST</td>\n      <td>ELLIOT ROAD</td>\n      <td>38883.874192089998</td>\n      <td>32621.50999211</td>\n      <td>1.97872</td>\n    </tr>\n    <tr>\n      <th>1</th>\n      <td>2350</td>\n      <td>210-220</td>\n      <td>15</td>\n      <td>0620</td>\n      <td>3</td>\n      <td>Non-landed Properties</td>\n      <td>5600</td>\n      <td>ELLIOT AT THE EAST COAST</td>\n      <td>ELLIOT ROAD</td>\n      <td>38883.874192089998</td>\n      <td>32621.50999211</td>\n      <td>2.38298</td>\n    </tr>\n    <tr>\n      <th>2</th>\n      <td>2550</td>\n      <td>230-240</td>\n      <td>15</td>\n      <td>0420</td>\n      <td>4</td>\n      <td>Non-landed Properties</td>\n      <td>6200</td>\n      <td>ELLIOT AT THE EAST COAST</td>\n      <td>ELLIOT ROAD</td>\n      <td>38883.874192089998</td>\n      <td>32621.50999211</td>\n      <td>2.43137</td>\n    </tr>\n    <tr>\n      <th>3</th>\n      <td>950</td>\n      <td>90-100</td>\n      <td>15</td>\n      <td>0520</td>\n      <td>2</td>\n      <td>Non-landed Properties</td>\n      <td>3100</td>\n      <td>ELLIOT AT THE EAST COAST</td>\n      <td>ELLIOT ROAD</td>\n      <td>38883.874192089998</td>\n      <td>32621.50999211</td>\n      <td>3.26316</td>\n    </tr>\n    <tr>\n      <th>4</th>\n      <td>2550</td>\n      <td>230-240</td>\n      <td>15</td>\n      <td>0520</td>\n      <td>4</td>\n      <td>Non-landed Properties</td>\n      <td>5700</td>\n      <td>ELLIOT AT THE EAST COAST</td>\n      <td>ELLIOT ROAD</td>\n      <td>38883.874192089998</td>\n      <td>32621.50999211</td>\n      <td>2.23529</td>\n    </tr>\n  </tbody>\n</table>\n</div>",
                        "text/plain": "  areaSqft  areaSqm district leaseDate noOfBedRoom           propertyType  \\\n0     2350  210-220       15      0620           3  Non-landed Properties   \n1     2350  210-220       15      0620           3  Non-landed Properties   \n2     2550  230-240       15      0420           4  Non-landed Properties   \n3      950   90-100       15      0520           2  Non-landed Properties   \n4     2550  230-240       15      0520           4  Non-landed Properties   \n\n   rent                   project       street                   x  \\\n0  4650  ELLIOT AT THE EAST COAST  ELLIOT ROAD  38883.874192089998   \n1  5600  ELLIOT AT THE EAST COAST  ELLIOT ROAD  38883.874192089998   \n2  6200  ELLIOT AT THE EAST COAST  ELLIOT ROAD  38883.874192089998   \n3  3100  ELLIOT AT THE EAST COAST  ELLIOT ROAD  38883.874192089998   \n4  5700  ELLIOT AT THE EAST COAST  ELLIOT ROAD  38883.874192089998   \n\n                y      psf  \n0  32621.50999211  1.97872  \n1  32621.50999211  2.38298  \n2  32621.50999211  2.43137  \n3  32621.50999211  3.26316  \n4  32621.50999211  2.23529  "
                    },
                    "execution_count": 76,
                    "metadata": {},
                    "output_type": "execute_result"
                }
            ],
            "source": "#append psf column to ura_df\nura_df['psf'] = psf\nura_df['areaSqft'] = area\nura_df.head()"
        },
        {
            "cell_type": "code",
            "execution_count": 77,
            "metadata": {},
            "outputs": [
                {
                    "data": {
                        "text/plain": "areaSqft        object\nareaSqm         object\ndistrict        object\nleaseDate       object\nnoOfBedRoom     object\npropertyType    object\nrent             int64\nproject         object\nstreet          object\nx               object\ny               object\npsf             object\ndtype: object"
                    },
                    "execution_count": 77,
                    "metadata": {},
                    "output_type": "execute_result"
                }
            ],
            "source": "#make sure each colum have the correct datatype\nura_df.dtypes"
        },
        {
            "cell_type": "code",
            "execution_count": 78,
            "metadata": {},
            "outputs": [
                {
                    "data": {
                        "text/html": "<div>\n<style scoped>\n    .dataframe tbody tr th:only-of-type {\n        vertical-align: middle;\n    }\n\n    .dataframe tbody tr th {\n        vertical-align: top;\n    }\n\n    .dataframe thead th {\n        text-align: right;\n    }\n</style>\n<table border=\"1\" class=\"dataframe\">\n  <thead>\n    <tr style=\"text-align: right;\">\n      <th></th>\n      <th>street</th>\n      <th>x</th>\n      <th>project</th>\n      <th>y</th>\n      <th>areaSqft</th>\n      <th>leaseDate</th>\n      <th>propertyType</th>\n      <th>district</th>\n      <th>noOfBedRoom</th>\n      <th>rent</th>\n      <th>areaSqm</th>\n      <th>psf</th>\n    </tr>\n  </thead>\n  <tbody>\n    <tr>\n      <th>0</th>\n      <td>ELLIOT ROAD</td>\n      <td>38883.874192</td>\n      <td>ELLIOT AT THE EAST COAST</td>\n      <td>32621.509992</td>\n      <td>950</td>\n      <td>18Q1</td>\n      <td>Non-landed Properties</td>\n      <td>15</td>\n      <td>2.0</td>\n      <td>3000</td>\n      <td>90-100</td>\n      <td>3.157895</td>\n    </tr>\n    <tr>\n      <th>1</th>\n      <td>ELLIOT ROAD</td>\n      <td>38883.874192</td>\n      <td>ELLIOT AT THE EAST COAST</td>\n      <td>32621.509992</td>\n      <td>1750</td>\n      <td>18Q1</td>\n      <td>Non-landed Properties</td>\n      <td>15</td>\n      <td>4.0</td>\n      <td>5500</td>\n      <td>160-170</td>\n      <td>3.142857</td>\n    </tr>\n    <tr>\n      <th>2</th>\n      <td>ELLIOT ROAD</td>\n      <td>38883.874192</td>\n      <td>ELLIOT AT THE EAST COAST</td>\n      <td>32621.509992</td>\n      <td>2650</td>\n      <td>18Q1</td>\n      <td>Non-landed Properties</td>\n      <td>15</td>\n      <td>4.0</td>\n      <td>6000</td>\n      <td>240-250</td>\n      <td>2.264151</td>\n    </tr>\n    <tr>\n      <th>3</th>\n      <td>ELLIOT ROAD</td>\n      <td>38883.874192</td>\n      <td>ELLIOT AT THE EAST COAST</td>\n      <td>32621.509992</td>\n      <td>2150</td>\n      <td>18Q1</td>\n      <td>Non-landed Properties</td>\n      <td>15</td>\n      <td>3.0</td>\n      <td>4700</td>\n      <td>190-200</td>\n      <td>2.186047</td>\n    </tr>\n    <tr>\n      <th>4</th>\n      <td>ELLIOT ROAD</td>\n      <td>38883.874192</td>\n      <td>ELLIOT AT THE EAST COAST</td>\n      <td>32621.509992</td>\n      <td>1650</td>\n      <td>18Q1</td>\n      <td>Non-landed Properties</td>\n      <td>15</td>\n      <td>2.0</td>\n      <td>2900</td>\n      <td>140-150</td>\n      <td>1.757576</td>\n    </tr>\n  </tbody>\n</table>\n</div>",
                        "text/plain": "        street             x                   project             y  \\\n0  ELLIOT ROAD  38883.874192  ELLIOT AT THE EAST COAST  32621.509992   \n1  ELLIOT ROAD  38883.874192  ELLIOT AT THE EAST COAST  32621.509992   \n2  ELLIOT ROAD  38883.874192  ELLIOT AT THE EAST COAST  32621.509992   \n3  ELLIOT ROAD  38883.874192  ELLIOT AT THE EAST COAST  32621.509992   \n4  ELLIOT ROAD  38883.874192  ELLIOT AT THE EAST COAST  32621.509992   \n\n   areaSqft leaseDate           propertyType  district  noOfBedRoom  rent  \\\n0       950      18Q1  Non-landed Properties        15          2.0  3000   \n1      1750      18Q1  Non-landed Properties        15          4.0  5500   \n2      2650      18Q1  Non-landed Properties        15          4.0  6000   \n3      2150      18Q1  Non-landed Properties        15          3.0  4700   \n4      1650      18Q1  Non-landed Properties        15          2.0  2900   \n\n   areaSqm       psf  \n0   90-100  3.157895  \n1  160-170  3.142857  \n2  240-250  2.264151  \n3  190-200  2.186047  \n4  140-150  1.757576  "
                    },
                    "execution_count": 78,
                    "metadata": {},
                    "output_type": "execute_result"
                }
            ],
            "source": "# The code was removed by Watson Studio for sharing."
        },
        {
            "cell_type": "code",
            "execution_count": 79,
            "metadata": {},
            "outputs": [
                {
                    "data": {
                        "text/plain": "{'street': dtype('O'),\n 'x': dtype('float64'),\n 'project': dtype('O'),\n 'y': dtype('float64'),\n 'areaSqft': dtype('int64'),\n 'leaseDate': dtype('O'),\n 'propertyType': dtype('O'),\n 'district': dtype('int64'),\n 'noOfBedRoom': dtype('float64'),\n 'rent': dtype('int64'),\n 'areaSqm': dtype('O'),\n 'psf': dtype('float64')}"
                    },
                    "execution_count": 79,
                    "metadata": {},
                    "output_type": "execute_result"
                }
            ],
            "source": "dict(sample_ura.dtypes)"
        },
        {
            "cell_type": "code",
            "execution_count": 80,
            "metadata": {},
            "outputs": [
                {
                    "data": {
                        "text/plain": "areaSqft          int64\nareaSqm          object\ndistrict          int64\nleaseDate        object\nnoOfBedRoom     float64\npropertyType     object\nrent              int64\nproject          object\nstreet           object\nx               float64\ny               float64\npsf             float64\ndtype: object"
                    },
                    "execution_count": 80,
                    "metadata": {},
                    "output_type": "execute_result"
                }
            ],
            "source": "ura_df = ura_df.astype(dtype = dict(sample_ura.dtypes))\nura_df.dtypes"
        },
        {
            "cell_type": "code",
            "execution_count": 81,
            "metadata": {},
            "outputs": [],
            "source": "# The code was removed by Watson Studio for sharing."
        },
        {
            "cell_type": "code",
            "execution_count": 82,
            "metadata": {},
            "outputs": [],
            "source": "#append ura_df to existing URA_RENTAL sql table\n\nura_df.to_sql('ura_rental', engine, if_exists = 'append', index = False)"
        },
        {
            "cell_type": "code",
            "execution_count": 83,
            "metadata": {},
            "outputs": [],
            "source": "engine.dispose()"
        },
        {
            "cell_type": "code",
            "execution_count": 84,
            "metadata": {},
            "outputs": [
                {
                    "name": "stderr",
                    "output_type": "stream",
                    "text": "2020-07-24 11:00:24,550 - __PROJECT_LIB__ - ERROR - failed to initialize ibmos2spark integration\nTraceback (most recent call last):\n  File \"/opt/conda/envs/Python36/lib/python3.6/site-packages/project_lib/storage/bcos.py\", line 138, in _initialize_bcos2spark\n    import ibmos2spark\nModuleNotFoundError: No module named 'ibmos2spark'\n"
                },
                {
                    "data": {
                        "text/html": "<div>\n<style scoped>\n    .dataframe tbody tr th:only-of-type {\n        vertical-align: middle;\n    }\n\n    .dataframe tbody tr th {\n        vertical-align: top;\n    }\n\n    .dataframe thead th {\n        text-align: right;\n    }\n</style>\n<table border=\"1\" class=\"dataframe\">\n  <thead>\n    <tr style=\"text-align: right;\">\n      <th></th>\n      <th>quarter</th>\n    </tr>\n  </thead>\n  <tbody>\n    <tr>\n      <th>0</th>\n      <td>19Q1</td>\n    </tr>\n    <tr>\n      <th>1</th>\n      <td>19Q2</td>\n    </tr>\n    <tr>\n      <th>2</th>\n      <td>19Q3</td>\n    </tr>\n    <tr>\n      <th>3</th>\n      <td>19Q4</td>\n    </tr>\n    <tr>\n      <th>4</th>\n      <td>20Q1</td>\n    </tr>\n    <tr>\n      <th>5</th>\n      <td>20Q1</td>\n    </tr>\n    <tr>\n      <th>6</th>\n      <td>20Q2</td>\n    </tr>\n  </tbody>\n</table>\n</div>",
                        "text/plain": "  quarter\n0    19Q1\n1    19Q2\n2    19Q3\n3    19Q4\n4    20Q1\n5    20Q1\n6    20Q2"
                    },
                    "execution_count": 84,
                    "metadata": {},
                    "output_type": "execute_result"
                }
            ],
            "source": "# The code was removed by Watson Studio for sharing."
        },
        {
            "cell_type": "code",
            "execution_count": null,
            "metadata": {},
            "outputs": [],
            "source": ""
        }
    ],
    "metadata": {
        "kernelspec": {
            "display_name": "Python 3.6",
            "language": "python",
            "name": "python3"
        },
        "language_info": {
            "codemirror_mode": {
                "name": "ipython",
                "version": 3
            },
            "file_extension": ".py",
            "mimetype": "text/x-python",
            "name": "python",
            "nbconvert_exporter": "python",
            "pygments_lexer": "ipython3",
            "version": "3.6.9"
        }
    },
    "nbformat": 4,
    "nbformat_minor": 1
}