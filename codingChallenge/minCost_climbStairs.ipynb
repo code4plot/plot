{
 "cells": [
  {
   "cell_type": "code",
   "execution_count": 15,
   "metadata": {},
   "outputs": [],
   "source": [
    "#find minimum cost of climbing stairs \n",
    "def minCost(cost):\n",
    "    #initiate list cost\n",
    "    c = [None]*len(cost)\n",
    "    c[0] = cost[0]\n",
    "    c[1] = cost[1]\n",
    "    #find the minimum cost of previous step and add current cost\n",
    "    for i in range(2, len(cost)):\n",
    "        c[i] = min([c[i-1], c[i-2]]) + cost[i]\n",
    "    #return the minimum of the final two elements\n",
    "    print(c)\n",
    "    return min([c[-2],c[-1]])"
   ]
  },
  {
   "cell_type": "code",
   "execution_count": 16,
   "metadata": {},
   "outputs": [
    {
     "name": "stdout",
     "output_type": "stream",
     "text": [
      "[5, 9, 6, 9, 12, 14, 16, 19, 17, 27, 22, 25, 26]\n",
      "[5, 9, 1, 3, 6, 5, 4, 5, 1, 10, 5, 3, 4] 25\n"
     ]
    }
   ],
   "source": [
    "#driver function\n",
    "import random\n",
    "if __name__ == \"__main__\": \n",
    "    a = []\n",
    "    for i in range(random.randint(10,20)):\n",
    "        a.append(random.randint(1,10))\n",
    "    print(a, minCost(a)) "
   ]
  },
  {
   "cell_type": "code",
   "execution_count": null,
   "metadata": {},
   "outputs": [],
   "source": []
  }
 ],
 "metadata": {
  "kernelspec": {
   "display_name": "Python 3",
   "language": "python",
   "name": "python3"
  },
  "language_info": {
   "codemirror_mode": {
    "name": "ipython",
    "version": 3
   },
   "file_extension": ".py",
   "mimetype": "text/x-python",
   "name": "python",
   "nbconvert_exporter": "python",
   "pygments_lexer": "ipython3",
   "version": "3.7.6"
  }
 },
 "nbformat": 4,
 "nbformat_minor": 4
}
