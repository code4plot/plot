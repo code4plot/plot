{
 "cells": [
  {
   "cell_type": "code",
   "execution_count": 2,
   "metadata": {},
   "outputs": [
    {
     "ename": "ImportError",
     "evalue": "DLL load failed: The network path was not found.",
     "output_type": "error",
     "traceback": [
      "\u001b[1;31m---------------------------------------------------------------------------\u001b[0m",
      "\u001b[1;31mImportError\u001b[0m                               Traceback (most recent call last)",
      "\u001b[1;32m<ipython-input-2-0bdad8c25261>\u001b[0m in \u001b[0;36m<module>\u001b[1;34m\u001b[0m\n\u001b[0;32m      1\u001b[0m \u001b[1;31m#establish connection to DB2 database containing URA rental data\u001b[0m\u001b[1;33m\u001b[0m\u001b[1;33m\u001b[0m\u001b[1;33m\u001b[0m\u001b[0m\n\u001b[1;32m----> 2\u001b[1;33m \u001b[1;32mimport\u001b[0m \u001b[0mibm_db\u001b[0m\u001b[1;33m\u001b[0m\u001b[1;33m\u001b[0m\u001b[0m\n\u001b[0m\u001b[0;32m      3\u001b[0m \u001b[1;31m#credentials\u001b[0m\u001b[1;33m\u001b[0m\u001b[1;33m\u001b[0m\u001b[1;33m\u001b[0m\u001b[0m\n\u001b[0;32m      4\u001b[0m \u001b[1;31m#@hidden_cell\u001b[0m\u001b[1;33m\u001b[0m\u001b[1;33m\u001b[0m\u001b[1;33m\u001b[0m\u001b[0m\n\u001b[0;32m      5\u001b[0m \u001b[0mdsn_hostname\u001b[0m \u001b[1;33m=\u001b[0m \u001b[1;34m\"dashdb-txn-sbox-yp-lon02-04.services.eu-gb.bluemix.net\"\u001b[0m \u001b[1;31m# e.g.: \"dashdb-txn-sbox-yp-dal09-04.services.dal.bluemix.net\"\u001b[0m\u001b[1;33m\u001b[0m\u001b[1;33m\u001b[0m\u001b[0m\n",
      "\u001b[1;32m~\\Anaconda3\\lib\\site-packages\\ibm_db_dlls\\ibm_db.dll\u001b[0m in \u001b[0;36m<module>\u001b[1;34m\u001b[0m\n",
      "\u001b[1;32m~\\Anaconda3\\lib\\site-packages\\ibm_db_dlls\\ibm_db.dll\u001b[0m in \u001b[0;36m__bootstrap__\u001b[1;34m()\u001b[0m\n",
      "\u001b[1;32m~\\Anaconda3\\lib\\imp.py\u001b[0m in \u001b[0;36mload_dynamic\u001b[1;34m(name, path, file)\u001b[0m\n\u001b[0;32m    340\u001b[0m         spec = importlib.machinery.ModuleSpec(\n\u001b[0;32m    341\u001b[0m             name=name, loader=loader, origin=path)\n\u001b[1;32m--> 342\u001b[1;33m         \u001b[1;32mreturn\u001b[0m \u001b[0m_load\u001b[0m\u001b[1;33m(\u001b[0m\u001b[0mspec\u001b[0m\u001b[1;33m)\u001b[0m\u001b[1;33m\u001b[0m\u001b[1;33m\u001b[0m\u001b[0m\n\u001b[0m\u001b[0;32m    343\u001b[0m \u001b[1;33m\u001b[0m\u001b[0m\n\u001b[0;32m    344\u001b[0m \u001b[1;32melse\u001b[0m\u001b[1;33m:\u001b[0m\u001b[1;33m\u001b[0m\u001b[1;33m\u001b[0m\u001b[0m\n",
      "\u001b[1;31mImportError\u001b[0m: DLL load failed: The network path was not found."
     ]
    }
   ],
   "source": [
    "#establish connection to DB2 database containing URA rental data\n",
    "import ibm_db\n",
    "#credentials\n",
    "#@hidden_cell\n",
    "dsn_hostname = \"dashdb-txn-sbox-yp-lon02-04.services.eu-gb.bluemix.net\" # e.g.: \"dashdb-txn-sbox-yp-dal09-04.services.dal.bluemix.net\"\n",
    "dsn_uid = \"dsd71157\"        # e.g. \"abc12345\"\n",
    "dsn_pwd = \"bzxq@6k95c5x3ph8\"      # e.g. \"7dBZ3wWt9XN6$o0J\"\n",
    "\n",
    "dsn_driver = \"{IBM DB2 ODBC DRIVER}\"\n",
    "dsn_database = \"BLUDB\"            # e.g. \"BLUDB\"\n",
    "dsn_port = \"50000\"                # e.g. \"50000\" \n",
    "dsn_protocol = \"TCPIP\"            # i.e. \"TCPIP\""
   ]
  },
  {
   "cell_type": "code",
   "execution_count": 3,
   "metadata": {},
   "outputs": [
    {
     "data": {
      "text/plain": [
       "['C:\\\\Users\\\\mbijlkh\\\\Anaconda3',\n",
       " 'C:\\\\Users\\\\mbijlkh\\\\Anaconda3\\\\Library\\\\mingw-w64\\\\bin',\n",
       " 'C:\\\\Users\\\\mbijlkh\\\\Anaconda3\\\\Library\\\\usr\\\\bin',\n",
       " 'C:\\\\Users\\\\mbijlkh\\\\Anaconda3\\\\Library\\\\bin',\n",
       " 'C:\\\\Users\\\\mbijlkh\\\\Anaconda3\\\\Scripts',\n",
       " 'C:\\\\Users\\\\mbijlkh\\\\Anaconda3\\\\bin',\n",
       " 'C:\\\\Users\\\\mbijlkh\\\\Anaconda3\\\\condabin',\n",
       " 'C:\\\\Users\\\\mbijlkh\\\\Anaconda3',\n",
       " 'C:\\\\Users\\\\mbijlkh\\\\Anaconda3\\\\Library\\\\mingw-w64\\\\bin',\n",
       " 'C:\\\\Users\\\\mbijlkh\\\\Anaconda3\\\\Library\\\\usr\\\\bin',\n",
       " 'C:\\\\Users\\\\mbijlkh\\\\Anaconda3\\\\Library\\\\bin',\n",
       " 'C:\\\\Users\\\\mbijlkh\\\\Anaconda3\\\\Scripts',\n",
       " 'C:\\\\Program Files (x86)\\\\Common Files\\\\Oracle\\\\Java\\\\javapath',\n",
       " 'C:\\\\ProgramData\\\\Oracle\\\\Java\\\\javapath',\n",
       " 'C:\\\\Windows\\\\system32',\n",
       " 'C:\\\\Windows',\n",
       " 'C:\\\\Windows\\\\System32\\\\Wbem',\n",
       " 'C:\\\\Windows\\\\System32\\\\WindowsPowerShell\\\\v1.0',\n",
       " 'C:\\\\Program Files (x86)\\\\Enterprise Vault\\\\EVClient',\n",
       " 'C:\\\\Program Files (x86)\\\\Intel\\\\Intel(R) Management Engine Components\\\\DAL',\n",
       " 'C:\\\\Program Files\\\\Intel\\\\Intel(R) Management Engine Components\\\\DAL',\n",
       " 'C:\\\\Program Files\\\\Intel\\\\WiFi\\\\bin',\n",
       " 'C:\\\\Program Files\\\\Common Files\\\\Intel\\\\WirelessCommon',\n",
       " 'C:\\\\Program Files\\\\Cloud Foundry',\n",
       " 'c:\\\\programdata\\\\oracle\\\\java\\\\javapath',\n",
       " 'c:\\\\windows\\\\system32',\n",
       " 'c:\\\\windows',\n",
       " 'c:\\\\windows\\\\system32\\\\wbem',\n",
       " 'c:\\\\windows\\\\system32\\\\windowspowershell\\\\v1.0',\n",
       " 'c:\\\\program files (x86)\\\\enterprise vault\\\\evclient',\n",
       " 'c:\\\\matlab\\\\r2017b\\\\runtime\\\\win64',\n",
       " 'c:\\\\matlab\\\\r2017b\\\\bin',\n",
       " '\\\\\\\\wns01\\\\netlogon',\n",
       " 'c:\\\\programdata\\\\oracle\\\\java\\\\javapath',\n",
       " 'c:\\\\windows\\\\system32',\n",
       " 'c:\\\\windows',\n",
       " 'c:\\\\windows\\\\system32\\\\wbem',\n",
       " 'c:\\\\windows\\\\system32\\\\windowspowershell\\\\v1.0',\n",
       " 'c:\\\\program files (x86)\\\\enterprise vault\\\\evclient',\n",
       " 'c:\\\\matlab\\\\r2017b\\\\runtime\\\\win64',\n",
       " 'c:\\\\matlab\\\\r2017b\\\\bin',\n",
       " 'c:\\\\users\\\\mbijlkh\\\\appdata\\\\local\\\\microsoft\\\\windowsapps',\n",
       " 'i:\\\\win\\\\dll',\n",
       " 'i:\\\\win\\\\bin',\n",
       " 'i:\\\\orawin95\\\\bin',\n",
       " 'c:\\\\program files\\\\intel\\\\wifi\\\\bin',\n",
       " 'c:\\\\program files\\\\common files\\\\intel\\\\wirelesscommon',\n",
       " 'c:\\\\users\\\\mbijlkh\\\\appdata\\\\local\\\\githubdesktop\\\\bin',\n",
       " 'c:\\\\users\\\\mbijlkh\\\\appdata\\\\local\\\\githubdesktop\\\\bin',\n",
       " 'c:\\\\users\\\\mbijlkh\\\\appdata\\\\local\\\\githubdesktop\\\\bin',\n",
       " 'C:\\\\Users\\\\mbijlkh\\\\AppData\\\\Local\\\\GitHubDesktop\\\\bin',\n",
       " 'C:\\\\Users\\\\mbijlkh\\\\Anaconda3\\\\lib\\\\site-packages\\\\clidriver\\\\bin']"
      ]
     },
     "execution_count": 3,
     "metadata": {},
     "output_type": "execute_result"
    }
   ],
   "source": [
    "import os\n",
    "os.environ['PATH'].split(';')"
   ]
  },
  {
   "cell_type": "code",
   "execution_count": 4,
   "metadata": {},
   "outputs": [
    {
     "name": "stdout",
     "output_type": "stream",
     "text": [
      "Connected to database:  BLUDB as user:  dsd71157 on host:  dashdb-txn-sbox-yp-lon02-04.services.eu-gb.bluemix.net\n"
     ]
    }
   ],
   "source": [
    "#Create database connection\n",
    "#DO NOT MODIFY THIS CELL. Just RUN it with Shift + Enter\n",
    "dsn = (\n",
    "    \"DRIVER={0};\"\n",
    "    \"DATABASE={1};\"\n",
    "    \"HOSTNAME={2};\"\n",
    "    \"PORT={3};\"\n",
    "    \"PROTOCOL={4};\"\n",
    "    \"UID={5};\"\n",
    "    \"PWD={6};\").format(dsn_driver, dsn_database, dsn_hostname, dsn_port, dsn_protocol, dsn_uid, dsn_pwd)\n",
    "\n",
    "try:\n",
    "    conn = ibm_db.connect(dsn, \"\", \"\")\n",
    "    print (\"Connected to database: \", dsn_database, \"as user: \", dsn_uid, \"on host: \", dsn_hostname)\n",
    "\n",
    "except:\n",
    "    print (\"Unable to connect: \", ibm_db.conn_errormsg() )"
   ]
  },
  {
   "cell_type": "code",
   "execution_count": 5,
   "metadata": {},
   "outputs": [],
   "source": [
    "import pandas as pd\n",
    "import ibm_db_dbi\n",
    "\n",
    "pconn = ibm_db_dbi.Connection(conn) #connection for pandas"
   ]
  },
  {
   "cell_type": "code",
   "execution_count": 35,
   "metadata": {},
   "outputs": [
    {
     "name": "stdout",
     "output_type": "stream",
     "text": [
      "data retrieved and loaded\n"
     ]
    }
   ],
   "source": [
    "#query database\n",
    "#select statement\n",
    "selectQuery = \"select * from URA_RENTAL\"\n",
    "\n",
    "#retrive results into pandas df\n",
    "try:\n",
    "    ura_rental = pd.read_sql(selectQuery, pconn)\n",
    "    print(\"data retrieved and loaded\")\n",
    "    \n",
    "except:\n",
    "    print(\"unable to retrieve\")"
   ]
  },
  {
   "cell_type": "code",
   "execution_count": 36,
   "metadata": {},
   "outputs": [
    {
     "data": {
      "text/html": [
       "<div>\n",
       "<style scoped>\n",
       "    .dataframe tbody tr th:only-of-type {\n",
       "        vertical-align: middle;\n",
       "    }\n",
       "\n",
       "    .dataframe tbody tr th {\n",
       "        vertical-align: top;\n",
       "    }\n",
       "\n",
       "    .dataframe thead th {\n",
       "        text-align: right;\n",
       "    }\n",
       "</style>\n",
       "<table border=\"1\" class=\"dataframe\">\n",
       "  <thead>\n",
       "    <tr style=\"text-align: right;\">\n",
       "      <th></th>\n",
       "      <th>STREET</th>\n",
       "      <th>X</th>\n",
       "      <th>PROJECT</th>\n",
       "      <th>Y</th>\n",
       "      <th>areaSqft</th>\n",
       "      <th>leaseDate</th>\n",
       "      <th>propertyType</th>\n",
       "      <th>DISTRICT</th>\n",
       "      <th>noOfBedRoom</th>\n",
       "      <th>RENT</th>\n",
       "      <th>areaSqm</th>\n",
       "      <th>PSF</th>\n",
       "    </tr>\n",
       "  </thead>\n",
       "  <tbody>\n",
       "    <tr>\n",
       "      <th>0</th>\n",
       "      <td>ELLIOT ROAD</td>\n",
       "      <td>38883.874192</td>\n",
       "      <td>ELLIOT AT THE EAST COAST</td>\n",
       "      <td>32621.509992</td>\n",
       "      <td>950</td>\n",
       "      <td>18Q1</td>\n",
       "      <td>Non-landed Properties</td>\n",
       "      <td>15</td>\n",
       "      <td>2.0</td>\n",
       "      <td>3000</td>\n",
       "      <td>90-100</td>\n",
       "      <td>3.157895</td>\n",
       "    </tr>\n",
       "    <tr>\n",
       "      <th>1</th>\n",
       "      <td>ELLIOT ROAD</td>\n",
       "      <td>38883.874192</td>\n",
       "      <td>ELLIOT AT THE EAST COAST</td>\n",
       "      <td>32621.509992</td>\n",
       "      <td>1750</td>\n",
       "      <td>18Q1</td>\n",
       "      <td>Non-landed Properties</td>\n",
       "      <td>15</td>\n",
       "      <td>4.0</td>\n",
       "      <td>5500</td>\n",
       "      <td>160-170</td>\n",
       "      <td>3.142857</td>\n",
       "    </tr>\n",
       "    <tr>\n",
       "      <th>2</th>\n",
       "      <td>ELLIOT ROAD</td>\n",
       "      <td>38883.874192</td>\n",
       "      <td>ELLIOT AT THE EAST COAST</td>\n",
       "      <td>32621.509992</td>\n",
       "      <td>2650</td>\n",
       "      <td>18Q1</td>\n",
       "      <td>Non-landed Properties</td>\n",
       "      <td>15</td>\n",
       "      <td>4.0</td>\n",
       "      <td>6000</td>\n",
       "      <td>240-250</td>\n",
       "      <td>2.264151</td>\n",
       "    </tr>\n",
       "    <tr>\n",
       "      <th>3</th>\n",
       "      <td>ELLIOT ROAD</td>\n",
       "      <td>38883.874192</td>\n",
       "      <td>ELLIOT AT THE EAST COAST</td>\n",
       "      <td>32621.509992</td>\n",
       "      <td>2150</td>\n",
       "      <td>18Q1</td>\n",
       "      <td>Non-landed Properties</td>\n",
       "      <td>15</td>\n",
       "      <td>3.0</td>\n",
       "      <td>4700</td>\n",
       "      <td>190-200</td>\n",
       "      <td>2.186047</td>\n",
       "    </tr>\n",
       "    <tr>\n",
       "      <th>4</th>\n",
       "      <td>ELLIOT ROAD</td>\n",
       "      <td>38883.874192</td>\n",
       "      <td>ELLIOT AT THE EAST COAST</td>\n",
       "      <td>32621.509992</td>\n",
       "      <td>1650</td>\n",
       "      <td>18Q1</td>\n",
       "      <td>Non-landed Properties</td>\n",
       "      <td>15</td>\n",
       "      <td>2.0</td>\n",
       "      <td>2900</td>\n",
       "      <td>140-150</td>\n",
       "      <td>1.757576</td>\n",
       "    </tr>\n",
       "  </tbody>\n",
       "</table>\n",
       "</div>"
      ],
      "text/plain": [
       "        STREET             X                   PROJECT             Y  \\\n",
       "0  ELLIOT ROAD  38883.874192  ELLIOT AT THE EAST COAST  32621.509992   \n",
       "1  ELLIOT ROAD  38883.874192  ELLIOT AT THE EAST COAST  32621.509992   \n",
       "2  ELLIOT ROAD  38883.874192  ELLIOT AT THE EAST COAST  32621.509992   \n",
       "3  ELLIOT ROAD  38883.874192  ELLIOT AT THE EAST COAST  32621.509992   \n",
       "4  ELLIOT ROAD  38883.874192  ELLIOT AT THE EAST COAST  32621.509992   \n",
       "\n",
       "   areaSqft leaseDate           propertyType  DISTRICT  noOfBedRoom  RENT  \\\n",
       "0       950      18Q1  Non-landed Properties        15          2.0  3000   \n",
       "1      1750      18Q1  Non-landed Properties        15          4.0  5500   \n",
       "2      2650      18Q1  Non-landed Properties        15          4.0  6000   \n",
       "3      2150      18Q1  Non-landed Properties        15          3.0  4700   \n",
       "4      1650      18Q1  Non-landed Properties        15          2.0  2900   \n",
       "\n",
       "   areaSqm       PSF  \n",
       "0   90-100  3.157895  \n",
       "1  160-170  3.142857  \n",
       "2  240-250  2.264151  \n",
       "3  190-200  2.186047  \n",
       "4  140-150  1.757576  "
      ]
     },
     "execution_count": 36,
     "metadata": {},
     "output_type": "execute_result"
    }
   ],
   "source": [
    "ibm_db.close(conn)\n",
    "ura_rental.head()"
   ]
  },
  {
   "cell_type": "code",
   "execution_count": 10,
   "metadata": {},
   "outputs": [
    {
     "data": {
      "text/plain": [
       "<matplotlib.axes._subplots.AxesSubplot at 0x274d8a69248>"
      ]
     },
     "execution_count": 10,
     "metadata": {},
     "output_type": "execute_result"
    },
    {
     "data": {
      "image/png": "[encoded data removed]",
      "text/plain": [
       "<Figure size 432x288 with 1 Axes>"
      ]
     },
     "metadata": {
      "needs_background": "light"
     },
     "output_type": "display_data"
    }
   ],
   "source": [
    "%matplotlib inline\n"
   ]
  },
  {
   "cell_type": "code",
   "execution_count": 11,
   "metadata": {},
   "outputs": [
    {
     "data": {
      "text/plain": [
       "<matplotlib.axes._subplots.AxesSubplot at 0x274d8b9fb08>"
      ]
     },
     "execution_count": 11,
     "metadata": {},
     "output_type": "execute_result"
    },
    {
     "data": {
      "image/png": "[encoded data removed]",
      "text/plain": [
       "<Figure size 432x288 with 1 Axes>"
      ]
     },
     "metadata": {
      "needs_background": "light"
     },
     "output_type": "display_data"
    }
   ],
   "source": [
    "ura_rental.plot.scatter(x = 'Y', y = 'PSF')"
   ]
  },
  {
   "cell_type": "code",
   "execution_count": 12,
   "metadata": {},
   "outputs": [
    {
     "data": {
      "text/html": [
       "<div>\n",
       "<style scoped>\n",
       "    .dataframe tbody tr th:only-of-type {\n",
       "        vertical-align: middle;\n",
       "    }\n",
       "\n",
       "    .dataframe tbody tr th {\n",
       "        vertical-align: top;\n",
       "    }\n",
       "\n",
       "    .dataframe thead th {\n",
       "        text-align: right;\n",
       "    }\n",
       "</style>\n",
       "<table border=\"1\" class=\"dataframe\">\n",
       "  <thead>\n",
       "    <tr style=\"text-align: right;\">\n",
       "      <th></th>\n",
       "      <th>STREET</th>\n",
       "      <th>X</th>\n",
       "      <th>PROJECT</th>\n",
       "      <th>Y</th>\n",
       "      <th>areaSqft</th>\n",
       "      <th>leaseDate</th>\n",
       "      <th>propertyType</th>\n",
       "      <th>DISTRICT</th>\n",
       "      <th>noOfBedRoom</th>\n",
       "      <th>RENT</th>\n",
       "      <th>areaSqm</th>\n",
       "      <th>PSF</th>\n",
       "    </tr>\n",
       "  </thead>\n",
       "  <tbody>\n",
       "    <tr>\n",
       "      <th>38254</th>\n",
       "      <td>MISTRI ROAD</td>\n",
       "      <td>29422.076512</td>\n",
       "      <td>LUMIERE</td>\n",
       "      <td>28518.104905</td>\n",
       "      <td>3000</td>\n",
       "      <td>18Q2</td>\n",
       "      <td>Non-landed Properties</td>\n",
       "      <td>2</td>\n",
       "      <td>3.0</td>\n",
       "      <td>170000</td>\n",
       "      <td>&gt;300</td>\n",
       "      <td>56.666667</td>\n",
       "    </tr>\n",
       "  </tbody>\n",
       "</table>\n",
       "</div>"
      ],
      "text/plain": [
       "            STREET             X  PROJECT             Y  areaSqft leaseDate  \\\n",
       "38254  MISTRI ROAD  29422.076512  LUMIERE  28518.104905      3000      18Q2   \n",
       "\n",
       "                propertyType  DISTRICT  noOfBedRoom    RENT areaSqm        PSF  \n",
       "38254  Non-landed Properties         2          3.0  170000    >300  56.666667  "
      ]
     },
     "execution_count": 12,
     "metadata": {},
     "output_type": "execute_result"
    }
   ],
   "source": [
    "#identify outlier\n",
    "ura_rental[ura_rental.PSF > 50].head()"
   ]
  },
  {
   "cell_type": "code",
   "execution_count": 37,
   "metadata": {},
   "outputs": [],
   "source": [
    "#remove outlier and NaNs\n",
    "ura_rental = ura_rental[ura_rental.PSF < 50]\n",
    "ura_rental.dropna(inplace = True)"
   ]
  },
  {
   "cell_type": "code",
   "execution_count": 38,
   "metadata": {},
   "outputs": [],
   "source": [
    "#limit dataset to non-landed properties\n",
    "ura_rental = ura_rental[ura_rental.propertyType == \"Non-landed Properties\"]"
   ]
  },
  {
   "cell_type": "code",
   "execution_count": 39,
   "metadata": {},
   "outputs": [
    {
     "data": {
      "text/plain": [
       "<matplotlib.axes._subplots.AxesSubplot at 0x274dcb90988>"
      ]
     },
     "execution_count": 39,
     "metadata": {},
     "output_type": "execute_result"
    },
    {
     "data": {
      "image/png": "[encoded data removed]",
      "text/plain": [
       "<Figure size 432x288 with 1 Axes>"
      ]
     },
     "metadata": {
      "needs_background": "light"
     },
     "output_type": "display_data"
    }
   ],
   "source": [
    "ura_rental.plot.scatter(x = 'noOfBedRoom', y = 'PSF')"
   ]
  },
  {
   "cell_type": "code",
   "execution_count": 40,
   "metadata": {},
   "outputs": [],
   "source": [
    "#split df into training and testing sets\n",
    "import numpy as np\n",
    "msk = np.random.rand(len(ura_rental)) < 0.2\n",
    "train = ura_rental.iloc[msk]\n",
    "test = ura_rental.iloc[~msk]"
   ]
  },
  {
   "cell_type": "code",
   "execution_count": 41,
   "metadata": {},
   "outputs": [
    {
     "data": {
      "text/html": [
       "<div>\n",
       "<style scoped>\n",
       "    .dataframe tbody tr th:only-of-type {\n",
       "        vertical-align: middle;\n",
       "    }\n",
       "\n",
       "    .dataframe tbody tr th {\n",
       "        vertical-align: top;\n",
       "    }\n",
       "\n",
       "    .dataframe thead th {\n",
       "        text-align: right;\n",
       "    }\n",
       "</style>\n",
       "<table border=\"1\" class=\"dataframe\">\n",
       "  <thead>\n",
       "    <tr style=\"text-align: right;\">\n",
       "      <th></th>\n",
       "      <th>STREET</th>\n",
       "      <th>X</th>\n",
       "      <th>PROJECT</th>\n",
       "      <th>Y</th>\n",
       "      <th>areaSqft</th>\n",
       "      <th>leaseDate</th>\n",
       "      <th>propertyType</th>\n",
       "      <th>DISTRICT</th>\n",
       "      <th>noOfBedRoom</th>\n",
       "      <th>RENT</th>\n",
       "      <th>areaSqm</th>\n",
       "      <th>PSF</th>\n",
       "    </tr>\n",
       "  </thead>\n",
       "  <tbody>\n",
       "    <tr>\n",
       "      <th>3</th>\n",
       "      <td>ELLIOT ROAD</td>\n",
       "      <td>38883.874192</td>\n",
       "      <td>ELLIOT AT THE EAST COAST</td>\n",
       "      <td>32621.509992</td>\n",
       "      <td>2150</td>\n",
       "      <td>18Q1</td>\n",
       "      <td>Non-landed Properties</td>\n",
       "      <td>15</td>\n",
       "      <td>3.0</td>\n",
       "      <td>4700</td>\n",
       "      <td>190-200</td>\n",
       "      <td>2.186047</td>\n",
       "    </tr>\n",
       "    <tr>\n",
       "      <th>5</th>\n",
       "      <td>ELLIOT ROAD</td>\n",
       "      <td>38883.874192</td>\n",
       "      <td>ELLIOT AT THE EAST COAST</td>\n",
       "      <td>32621.509992</td>\n",
       "      <td>2150</td>\n",
       "      <td>18Q1</td>\n",
       "      <td>Non-landed Properties</td>\n",
       "      <td>15</td>\n",
       "      <td>3.0</td>\n",
       "      <td>5000</td>\n",
       "      <td>190-200</td>\n",
       "      <td>2.325581</td>\n",
       "    </tr>\n",
       "    <tr>\n",
       "      <th>7</th>\n",
       "      <td>ELLIOT ROAD</td>\n",
       "      <td>38883.874192</td>\n",
       "      <td>ELLIOT AT THE EAST COAST</td>\n",
       "      <td>32621.509992</td>\n",
       "      <td>1350</td>\n",
       "      <td>18Q1</td>\n",
       "      <td>Non-landed Properties</td>\n",
       "      <td>15</td>\n",
       "      <td>3.0</td>\n",
       "      <td>4300</td>\n",
       "      <td>120-130</td>\n",
       "      <td>3.185185</td>\n",
       "    </tr>\n",
       "    <tr>\n",
       "      <th>11</th>\n",
       "      <td>HILLVIEW AVENUE</td>\n",
       "      <td>19821.989335</td>\n",
       "      <td>MERAWOODS</td>\n",
       "      <td>37573.471112</td>\n",
       "      <td>1350</td>\n",
       "      <td>18Q1</td>\n",
       "      <td>Non-landed Properties</td>\n",
       "      <td>23</td>\n",
       "      <td>3.0</td>\n",
       "      <td>2400</td>\n",
       "      <td>120-130</td>\n",
       "      <td>1.777778</td>\n",
       "    </tr>\n",
       "    <tr>\n",
       "      <th>20</th>\n",
       "      <td>LORONG L TELOK KURAU</td>\n",
       "      <td>37046.187609</td>\n",
       "      <td>THE ESPIRA</td>\n",
       "      <td>32729.474433</td>\n",
       "      <td>550</td>\n",
       "      <td>18Q1</td>\n",
       "      <td>Non-landed Properties</td>\n",
       "      <td>15</td>\n",
       "      <td>1.0</td>\n",
       "      <td>1600</td>\n",
       "      <td>50-60</td>\n",
       "      <td>2.909091</td>\n",
       "    </tr>\n",
       "  </tbody>\n",
       "</table>\n",
       "</div>"
      ],
      "text/plain": [
       "                  STREET             X                   PROJECT  \\\n",
       "3            ELLIOT ROAD  38883.874192  ELLIOT AT THE EAST COAST   \n",
       "5            ELLIOT ROAD  38883.874192  ELLIOT AT THE EAST COAST   \n",
       "7            ELLIOT ROAD  38883.874192  ELLIOT AT THE EAST COAST   \n",
       "11       HILLVIEW AVENUE  19821.989335                 MERAWOODS   \n",
       "20  LORONG L TELOK KURAU  37046.187609                THE ESPIRA   \n",
       "\n",
       "               Y  areaSqft leaseDate           propertyType  DISTRICT  \\\n",
       "3   32621.509992      2150      18Q1  Non-landed Properties        15   \n",
       "5   32621.509992      2150      18Q1  Non-landed Properties        15   \n",
       "7   32621.509992      1350      18Q1  Non-landed Properties        15   \n",
       "11  37573.471112      1350      18Q1  Non-landed Properties        23   \n",
       "20  32729.474433       550      18Q1  Non-landed Properties        15   \n",
       "\n",
       "    noOfBedRoom  RENT  areaSqm       PSF  \n",
       "3           3.0  4700  190-200  2.186047  \n",
       "5           3.0  5000  190-200  2.325581  \n",
       "7           3.0  4300  120-130  3.185185  \n",
       "11          3.0  2400  120-130  1.777778  \n",
       "20          1.0  1600    50-60  2.909091  "
      ]
     },
     "execution_count": 41,
     "metadata": {},
     "output_type": "execute_result"
    }
   ],
   "source": [
    "train.head()"
   ]
  },
  {
   "cell_type": "code",
   "execution_count": 42,
   "metadata": {},
   "outputs": [
    {
     "data": {
      "text/html": [
       "<div>\n",
       "<style scoped>\n",
       "    .dataframe tbody tr th:only-of-type {\n",
       "        vertical-align: middle;\n",
       "    }\n",
       "\n",
       "    .dataframe tbody tr th {\n",
       "        vertical-align: top;\n",
       "    }\n",
       "\n",
       "    .dataframe thead th {\n",
       "        text-align: right;\n",
       "    }\n",
       "</style>\n",
       "<table border=\"1\" class=\"dataframe\">\n",
       "  <thead>\n",
       "    <tr style=\"text-align: right;\">\n",
       "      <th></th>\n",
       "      <th>STREET</th>\n",
       "      <th>X</th>\n",
       "      <th>PROJECT</th>\n",
       "      <th>Y</th>\n",
       "      <th>areaSqft</th>\n",
       "      <th>leaseDate</th>\n",
       "      <th>propertyType</th>\n",
       "      <th>DISTRICT</th>\n",
       "      <th>noOfBedRoom</th>\n",
       "      <th>RENT</th>\n",
       "      <th>areaSqm</th>\n",
       "      <th>PSF</th>\n",
       "    </tr>\n",
       "  </thead>\n",
       "  <tbody>\n",
       "    <tr>\n",
       "      <th>0</th>\n",
       "      <td>ELLIOT ROAD</td>\n",
       "      <td>38883.874192</td>\n",
       "      <td>ELLIOT AT THE EAST COAST</td>\n",
       "      <td>32621.509992</td>\n",
       "      <td>950</td>\n",
       "      <td>18Q1</td>\n",
       "      <td>Non-landed Properties</td>\n",
       "      <td>15</td>\n",
       "      <td>2.0</td>\n",
       "      <td>3000</td>\n",
       "      <td>90-100</td>\n",
       "      <td>3.157895</td>\n",
       "    </tr>\n",
       "    <tr>\n",
       "      <th>1</th>\n",
       "      <td>ELLIOT ROAD</td>\n",
       "      <td>38883.874192</td>\n",
       "      <td>ELLIOT AT THE EAST COAST</td>\n",
       "      <td>32621.509992</td>\n",
       "      <td>1750</td>\n",
       "      <td>18Q1</td>\n",
       "      <td>Non-landed Properties</td>\n",
       "      <td>15</td>\n",
       "      <td>4.0</td>\n",
       "      <td>5500</td>\n",
       "      <td>160-170</td>\n",
       "      <td>3.142857</td>\n",
       "    </tr>\n",
       "    <tr>\n",
       "      <th>2</th>\n",
       "      <td>ELLIOT ROAD</td>\n",
       "      <td>38883.874192</td>\n",
       "      <td>ELLIOT AT THE EAST COAST</td>\n",
       "      <td>32621.509992</td>\n",
       "      <td>2650</td>\n",
       "      <td>18Q1</td>\n",
       "      <td>Non-landed Properties</td>\n",
       "      <td>15</td>\n",
       "      <td>4.0</td>\n",
       "      <td>6000</td>\n",
       "      <td>240-250</td>\n",
       "      <td>2.264151</td>\n",
       "    </tr>\n",
       "    <tr>\n",
       "      <th>4</th>\n",
       "      <td>ELLIOT ROAD</td>\n",
       "      <td>38883.874192</td>\n",
       "      <td>ELLIOT AT THE EAST COAST</td>\n",
       "      <td>32621.509992</td>\n",
       "      <td>1650</td>\n",
       "      <td>18Q1</td>\n",
       "      <td>Non-landed Properties</td>\n",
       "      <td>15</td>\n",
       "      <td>2.0</td>\n",
       "      <td>2900</td>\n",
       "      <td>140-150</td>\n",
       "      <td>1.757576</td>\n",
       "    </tr>\n",
       "    <tr>\n",
       "      <th>6</th>\n",
       "      <td>ELLIOT ROAD</td>\n",
       "      <td>38883.874192</td>\n",
       "      <td>ELLIOT AT THE EAST COAST</td>\n",
       "      <td>32621.509992</td>\n",
       "      <td>2850</td>\n",
       "      <td>18Q1</td>\n",
       "      <td>Non-landed Properties</td>\n",
       "      <td>15</td>\n",
       "      <td>4.0</td>\n",
       "      <td>6800</td>\n",
       "      <td>260-270</td>\n",
       "      <td>2.385965</td>\n",
       "    </tr>\n",
       "  </tbody>\n",
       "</table>\n",
       "</div>"
      ],
      "text/plain": [
       "        STREET             X                   PROJECT             Y  \\\n",
       "0  ELLIOT ROAD  38883.874192  ELLIOT AT THE EAST COAST  32621.509992   \n",
       "1  ELLIOT ROAD  38883.874192  ELLIOT AT THE EAST COAST  32621.509992   \n",
       "2  ELLIOT ROAD  38883.874192  ELLIOT AT THE EAST COAST  32621.509992   \n",
       "4  ELLIOT ROAD  38883.874192  ELLIOT AT THE EAST COAST  32621.509992   \n",
       "6  ELLIOT ROAD  38883.874192  ELLIOT AT THE EAST COAST  32621.509992   \n",
       "\n",
       "   areaSqft leaseDate           propertyType  DISTRICT  noOfBedRoom  RENT  \\\n",
       "0       950      18Q1  Non-landed Properties        15          2.0  3000   \n",
       "1      1750      18Q1  Non-landed Properties        15          4.0  5500   \n",
       "2      2650      18Q1  Non-landed Properties        15          4.0  6000   \n",
       "4      1650      18Q1  Non-landed Properties        15          2.0  2900   \n",
       "6      2850      18Q1  Non-landed Properties        15          4.0  6800   \n",
       "\n",
       "   areaSqm       PSF  \n",
       "0   90-100  3.157895  \n",
       "1  160-170  3.142857  \n",
       "2  240-250  2.264151  \n",
       "4  140-150  1.757576  \n",
       "6  260-270  2.385965  "
      ]
     },
     "execution_count": 42,
     "metadata": {},
     "output_type": "execute_result"
    }
   ],
   "source": [
    "test.head()"
   ]
  },
  {
   "cell_type": "code",
   "execution_count": 55,
   "metadata": {},
   "outputs": [
    {
     "data": {
      "text/plain": [
       "LinearRegression(copy_X=True, fit_intercept=True, n_jobs=None, normalize=False)"
      ]
     },
     "execution_count": 55,
     "metadata": {},
     "output_type": "execute_result"
    }
   ],
   "source": [
    "from sklearn import linear_model\n",
    "regr = linear_model.LinearRegression()\n",
    "x = np.asanyarray(train[['X','Y','noOfBedRoom']])\n",
    "y = np.asanyarray(train[['PSF']])\n",
    "regr.fit(x, y)"
   ]
  },
  {
   "cell_type": "code",
   "execution_count": 56,
   "metadata": {},
   "outputs": [
    {
     "name": "stdout",
     "output_type": "stream",
     "text": [
      "Coefficients:  [[-1.64576560e-05 -1.35511547e-04 -5.07705529e-01]]\n"
     ]
    }
   ],
   "source": [
    "#print coefficients\n",
    "print('Coefficients: ', regr.coef_)"
   ]
  },
  {
   "cell_type": "code",
   "execution_count": 57,
   "metadata": {},
   "outputs": [
    {
     "name": "stdout",
     "output_type": "stream",
     "text": [
      "Residual sum of squares: 0.82\n"
     ]
    }
   ],
   "source": [
    "y_hat = regr.predict(test[['X','Y','noOfBedRoom']])\n",
    "x = np.asanyarray(test[['X','Y','noOfBedRoom']])\n",
    "y = np.asanyarray(test[['PSF']])\n",
    "print(\"Residual sum of squares: %.2f\"%np.mean((y_hat-y) ** 2))"
   ]
  },
  {
   "cell_type": "code",
   "execution_count": 58,
   "metadata": {},
   "outputs": [
    {
     "name": "stdout",
     "output_type": "stream",
     "text": [
      "Variance score: 0.38\n"
     ]
    }
   ],
   "source": [
    "print(\"Variance score: %.2f\"%regr.score(x,y))"
   ]
  },
  {
   "cell_type": "code",
   "execution_count": 59,
   "metadata": {},
   "outputs": [],
   "source": [
    "residual = y - y_hat"
   ]
  },
  {
   "cell_type": "code",
   "execution_count": 85,
   "metadata": {},
   "outputs": [],
   "source": [
    "res_df = pd.DataFrame(data = residual, index = list(range(1,len(residual)+1)))"
   ]
  },
  {
   "cell_type": "code",
   "execution_count": 86,
   "metadata": {},
   "outputs": [],
   "source": [
    "res_df['pred'] = y_hat"
   ]
  },
  {
   "cell_type": "code",
   "execution_count": 92,
   "metadata": {},
   "outputs": [],
   "source": [
    "res_df.rename(columns = {0:'res'}, inplace = True)"
   ]
  },
  {
   "cell_type": "code",
   "execution_count": 94,
   "metadata": {},
   "outputs": [
    {
     "data": {
      "text/plain": [
       "<matplotlib.axes._subplots.AxesSubplot at 0x274812b0488>"
      ]
     },
     "execution_count": 94,
     "metadata": {},
     "output_type": "execute_result"
    },
    {
     "data": {
      "image/png": "[encoded data removed]",
      "text/plain": [
       "<Figure size 432x288 with 1 Axes>"
      ]
     },
     "metadata": {
      "needs_background": "light"
     },
     "output_type": "display_data"
    }
   ],
   "source": [
    "res_df.plot.scatter(x = 'pred', y = 'res')"
   ]
  },
  {
   "cell_type": "code",
   "execution_count": null,
   "metadata": {},
   "outputs": [],
   "source": []
  }
 ],
 "metadata": {
  "kernelspec": {
   "display_name": "Python 3",
   "language": "python",
   "name": "python3"
  },
  "language_info": {
   "codemirror_mode": {
    "name": "ipython",
    "version": 3
   },
   "file_extension": ".py",
   "mimetype": "text/x-python",
   "name": "python",
   "nbconvert_exporter": "python",
   "pygments_lexer": "ipython3",
   "version": "3.7.6"
  }
 },
 "nbformat": 4,
 "nbformat_minor": 4
}
