{
 "cells": [
  {
   "cell_type": "code",
   "execution_count": 57,
   "metadata": {},
   "outputs": [],
   "source": [
    "from collections import defaultdict\n",
    "class Cubes:\n",
    "    #constructor\n",
    "    def __init__(self):\n",
    "        self.adjacent = defaultdict(list)\n",
    "        #cubes in an island\n",
    "        self.cube_island = []\n",
    "        \n",
    "    #build the cube-rod layout\n",
    "    #like an undirected graph\n",
    "    def addRods(self, u, v):\n",
    "        self.adjacent[u].append(v)\n",
    "        self.adjacent[v].append(u)\n",
    "    \n",
    "    #function to traverse accross connected cubes with\n",
    "    #Depth-first search - DFSutils()\n",
    "    def connectedCubes(self, v):\n",
    "        #reset cube_island list\n",
    "        self.cube_island = []\n",
    "        #initiate visited list\n",
    "        visited = [False] * (max(self.adjacent) + 1)\n",
    "        \n",
    "        #start DFS traversal\n",
    "        self.DFSutils(v, visited)\n",
    "        \n",
    "    #use Depth-first search, starting with cube v\n",
    "    #and mark cube v was visited\n",
    "    def DFSutils(self, v, visited):\n",
    "        #print cube v and mark it visited\n",
    "        visited[v] = True\n",
    "        \n",
    "        #add cube to self.cube_island\n",
    "        self.cube_island.append(v)\n",
    "        \n",
    "        #iterate through all adjacent cubes\n",
    "        for i in self.adjacent[v]:\n",
    "            if visited[i] == False:\n",
    "                self.DFSutils(i, visited)\n"
   ]
  },
  {
   "cell_type": "code",
   "execution_count": 58,
   "metadata": {},
   "outputs": [],
   "source": [
    "def compute(rods):\n",
    "    #initiate Cubes class\n",
    "    c = Cubes()\n",
    "    \n",
    "    #construct a dictionary of adjacent cubes\n",
    "    #as an undirected graph\n",
    "    for i,j in rods:\n",
    "        c.addRods(i,j)\n",
    "    \n",
    "    #identify islands\n",
    "    islands = []\n",
    "    cubeList = list(c.adjacent.keys())\n",
    "    in_island = [False]*(max(cubeList) + 1)\n",
    "    for i in cubeList:\n",
    "        if in_island[i] == False:\n",
    "            #get all cubes that are connected to a given cube\n",
    "            #skip cube if already in the existing island\n",
    "            c.connectedCubes(i)\n",
    "            islands.append(c.cube_island) #cube_island stores a list of connected cubes\n",
    "            for j in c.cube_island:\n",
    "                in_island[j] = True\n",
    "    print(islands)\n",
    "    \n",
    "    #compute number of rods for each island\n",
    "    rods_islands = []\n",
    "    for island in islands:\n",
    "        r = 0\n",
    "        #for each rod, determine if one of its cube is in the island\n",
    "        for rod in rods:\n",
    "            for cube in island:\n",
    "                if cube in rod:\n",
    "                    r += 1\n",
    "                    break\n",
    "        rods_islands.append(r)\n",
    "    \n",
    "    #minimum number of rods to keep each island connected\n",
    "    #sum(minimum rods for each island)\n",
    "    minRods = []\n",
    "    for island in islands:\n",
    "        minRods.append(len(island) - 1) #(n-1), where n is the number of cubes\n",
    "    \n",
    "    #maximum rods can be removed\n",
    "    #subtract the minimum number of rods from number of rods of each island    \n",
    "    removeRod = 0\n",
    "    for i in range(len(rods_islands)):\n",
    "        removeRod += rods_islands[i] - minRods[i]\n",
    "    return removeRod\n",
    "        \n",
    "    "
   ]
  },
  {
   "cell_type": "code",
   "execution_count": 59,
   "metadata": {},
   "outputs": [
    {
     "name": "stdout",
     "output_type": "stream",
     "text": [
      "[[1, 2, 3]]\n"
     ]
    },
    {
     "data": {
      "text/plain": [
       "0"
      ]
     },
     "execution_count": 59,
     "metadata": {},
     "output_type": "execute_result"
    }
   ],
   "source": [
    "#test cases\n",
    "#1 island\n",
    "a = [(1,2),(1,3)]\n",
    "compute(a)"
   ]
  },
  {
   "cell_type": "code",
   "execution_count": 60,
   "metadata": {},
   "outputs": [
    {
     "name": "stdout",
     "output_type": "stream",
     "text": [
      "[[1, 2, 3]]\n"
     ]
    },
    {
     "data": {
      "text/plain": [
       "1"
      ]
     },
     "execution_count": 60,
     "metadata": {},
     "output_type": "execute_result"
    }
   ],
   "source": [
    "#1 island\n",
    "a = [(1,2), (2,3),(1,3)]\n",
    "compute(a)"
   ]
  },
  {
   "cell_type": "code",
   "execution_count": 61,
   "metadata": {},
   "outputs": [
    {
     "name": "stdout",
     "output_type": "stream",
     "text": [
      "[[1, 2, 3], [4, 5]]\n"
     ]
    },
    {
     "data": {
      "text/plain": [
       "0"
      ]
     },
     "execution_count": 61,
     "metadata": {},
     "output_type": "execute_result"
    }
   ],
   "source": [
    "#2 islands\n",
    "a = [(1,2),(2,3),(4,5)]\n",
    "compute(a)"
   ]
  },
  {
   "cell_type": "code",
   "execution_count": 62,
   "metadata": {},
   "outputs": [
    {
     "name": "stdout",
     "output_type": "stream",
     "text": [
      "[[1, 2, 3], [4, 5], [10, 11, 12, 42, 35, 20]]\n"
     ]
    },
    {
     "data": {
      "text/plain": [
       "4"
      ]
     },
     "execution_count": 62,
     "metadata": {},
     "output_type": "execute_result"
    }
   ],
   "source": [
    "#more islands\n",
    "a = [(1,2),(2,3),(4,5),(1,2),(2,3),(1,3),(10,11),(11,12),(42,35),(20,35),(20,35),(42,10)]\n",
    "compute(a)"
   ]
  },
  {
   "cell_type": "code",
   "execution_count": 63,
   "metadata": {},
   "outputs": [
    {
     "name": "stdout",
     "output_type": "stream",
     "text": [
      "[[1, 2, 3], [4, 5], [42, 35, 20, 10, 11, 12]]\n"
     ]
    },
    {
     "data": {
      "text/plain": [
       "4"
      ]
     },
     "execution_count": 63,
     "metadata": {},
     "output_type": "execute_result"
    }
   ],
   "source": [
    "#more islands\n",
    "a = [(1,2),(2,3),(4,5),(42,35),(20,35),(20,35),(42,10),(1,2),(2,3),(1,3),(10,11),(11,12)]\n",
    "compute(a)"
   ]
  },
  {
   "cell_type": "code",
   "execution_count": 64,
   "metadata": {},
   "outputs": [
    {
     "name": "stdout",
     "output_type": "stream",
     "text": [
      "[[1, 2, 3, 4], [42, 35, 20], [10, 11, 12]]\n"
     ]
    },
    {
     "data": {
      "text/plain": [
       "2"
      ]
     },
     "execution_count": 64,
     "metadata": {},
     "output_type": "execute_result"
    }
   ],
   "source": [
    "a = [(1,2),(42,35),(2,3),(20,35),(10,11),(11,12),(3,4),(20,35),(1,2)]\n",
    "compute(a)"
   ]
  },
  {
   "cell_type": "code",
   "execution_count": 65,
   "metadata": {},
   "outputs": [
    {
     "name": "stdout",
     "output_type": "stream",
     "text": [
      "[[1, 2, 3, 4], [42, 35, 20], [10, 11, 12], [5]]\n"
     ]
    },
    {
     "data": {
      "text/plain": [
       "3"
      ]
     },
     "execution_count": 65,
     "metadata": {},
     "output_type": "execute_result"
    }
   ],
   "source": [
    "a = [(1,2),(42,35),(2,3),(20,35),(10,11),(11,12),(3,4),(20,35),(1,2),(5,5)]\n",
    "compute(a)"
   ]
  },
  {
   "cell_type": "code",
   "execution_count": 66,
   "metadata": {},
   "outputs": [
    {
     "name": "stdout",
     "output_type": "stream",
     "text": [
      "[[5, 15, 16, 12, 20, 7, 9, 6, 8, 10, 13, 17], [19, 2, 11, 4]]\n",
      "[(5, 15), (19, 2), (19, 11), (12, 5), (11, 4), (8, 10), (12, 20), (6, 9), (15, 16), (6, 9), (20, 7), (5, 5), (12, 10), (12, 8), (17, 5), (7, 9), (8, 7), (16, 16), (13, 12), (6, 5)] 6\n"
     ]
    }
   ],
   "source": [
    "import random\n",
    "a = []\n",
    "for k in range(20):\n",
    "    a.append((random.randint(1,20),random.randint(1,20)))\n",
    "print(a, compute(a))"
   ]
  },
  {
   "cell_type": "code",
   "execution_count": null,
   "metadata": {},
   "outputs": [],
   "source": []
  }
 ],
 "metadata": {
  "kernelspec": {
   "display_name": "Python 3",
   "language": "python",
   "name": "python3"
  },
  "language_info": {
   "codemirror_mode": {
    "name": "ipython",
    "version": 3
   },
   "file_extension": ".py",
   "mimetype": "text/x-python",
   "name": "python",
   "nbconvert_exporter": "python",
   "pygments_lexer": "ipython3",
   "version": "3.7.6"
  }
 },
 "nbformat": 4,
 "nbformat_minor": 4
}
